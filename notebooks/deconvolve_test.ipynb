{
 "cells": [
  {
   "cell_type": "code",
   "execution_count": null,
   "id": "0dcc6567-6187-4cc5-9080-4ee54ff763c6",
   "metadata": {},
   "outputs": [],
   "source": [
    "import socket\n",
    "hostname = socket.gethostname()\n",
    "\n",
    "if hostname.startswith('s-sc'):\n",
    "    !squeue --job $SLURM_JOB_ID \n",
    "    !squeue -h -j $SLURM_JOBID -o %L\n",
    "elif hostname.startswith('jlab-pc13'):\n",
    "    %env CUDA_VISIBLE_DEVICES=1"
   ]
  },
  {
   "cell_type": "code",
   "execution_count": null,
   "id": "a8a1c849-3d52-4b9f-9143-ff9a4be2e2f4",
   "metadata": {},
   "outputs": [],
   "source": []
  },
  {
   "cell_type": "code",
   "execution_count": null,
   "id": "47bd1d44-35ad-4df4-a483-909d3305e5f5",
   "metadata": {},
   "outputs": [],
   "source": [
    "import wholebrain as wb\n",
    "import opm_img.mini as opm\n",
    "\n",
    "import numpy as np\n",
    "import cupy as cp\n",
    "import cuml\n",
    "import rmm\n",
    "cp.cuda.set_allocator(rmm.rmm_cupy_allocator)\n",
    "\n",
    "import matplotlib.pyplot as plt\n",
    "%matplotlib widget"
   ]
  },
  {
   "cell_type": "code",
   "execution_count": null,
   "id": "da00e474-3cc4-426c-877c-f5f7309a7f22",
   "metadata": {},
   "outputs": [],
   "source": [
    "import importlib\n",
    "importlib.reload(wb)\n",
    "importlib.reload(wb.visualize)\n",
    "importlib.reload(wb.cluster)\n",
    "importlib.reload(wb.regression)\n",
    "importlib.reload(wb.traces)"
   ]
  },
  {
   "cell_type": "code",
   "execution_count": null,
   "id": "93cdd1ec-0f14-4d1f-ab3f-141d51fc1dab",
   "metadata": {},
   "outputs": [],
   "source": []
  },
  {
   "cell_type": "markdown",
   "id": "9e2d6c4c-34cb-4b09-af0e-cf95a4f27506",
   "metadata": {},
   "source": [
    "## files and paths"
   ]
  },
  {
   "cell_type": "code",
   "execution_count": null,
   "id": "7f42cb87-8ffa-4690-bd84-eb46d9e457f2",
   "metadata": {},
   "outputs": [],
   "source": [
    "#dataset_name = '20221123_1045_No_stimulus'\n",
    "#dataset_name = '20221201_1812_actb2-nucG8mPilot'\n",
    "#dataset_name = '20211105_1332_no_stimulus'\n",
    "#dataset_name = '20221116_2043_stimset_2022-LR-0'\n",
    "dataset_name = '20210726_1244_stimset_#2021-1c'\n",
    "\n",
    "pn_in = '~/hpc-r/opm2021/recordings/'\n",
    "pn_out = '~/hpc-rw/deleteme-benjamin/'\n",
    "url_home = '/user/benju/files'\n",
    "\n",
    "paths = opm.io.Resolver(dataset_name = dataset_name, \n",
    "                        pn_in = pn_in, \n",
    "                        pn_out = pn_out,\n",
    "                        url_home = url_home)"
   ]
  },
  {
   "cell_type": "code",
   "execution_count": null,
   "id": "a95611bc-0a2f-400f-8472-cad6c229de38",
   "metadata": {},
   "outputs": [],
   "source": []
  },
  {
   "cell_type": "markdown",
   "id": "7e755344-cc00-4b29-b938-a9ce57cb1f5a",
   "metadata": {},
   "source": [
    "## load and select traces"
   ]
  },
  {
   "cell_type": "code",
   "execution_count": null,
   "id": "fdc374e1-ca54-442b-baec-912c014dd397",
   "metadata": {},
   "outputs": [],
   "source": [
    "#load traces\n",
    "tracing_result = opm.io.load_from_h5(paths.traces)"
   ]
  },
  {
   "cell_type": "code",
   "execution_count": null,
   "id": "4f63673a-a4e6-46a0-bd68-2386fcd5a7a6",
   "metadata": {},
   "outputs": [],
   "source": [
    "# inspect trace quality and filter\n",
    "non_zero_traces = ((tracing_result['traces']==0).sum(0) == 0)\n",
    "cov_vals = np.sort(tracing_result['cov_vals'][non_zero_traces])\n",
    "plt.figure()\n",
    "plt.plot(cov_vals, np.r_[cov_vals.size:0:-1])\n",
    "plt.gca().set(xlim=(1,1e5), xlabel='covariance value', ylabel='# cells included')\n",
    "plt.xscale('log')\n",
    "plt.tight_layout()"
   ]
  },
  {
   "cell_type": "code",
   "execution_count": null,
   "id": "4cfe87de-9d5e-4018-9821-e27d2624c55c",
   "metadata": {},
   "outputs": [],
   "source": [
    "#manually set treshold based on graph above\n",
    "cov_thresh = 100\n",
    "\n",
    "traces_selector = (tracing_result['cov_vals'] > cov_thresh) & non_zero_traces\n",
    "selected_traces = tracing_result['traces'][:,traces_selector]\n",
    "selected_traces.shape"
   ]
  },
  {
   "cell_type": "code",
   "execution_count": null,
   "id": "a6fc3d6f-3b64-4a3e-8dd0-05e7bc21fc5f",
   "metadata": {},
   "outputs": [],
   "source": []
  },
  {
   "cell_type": "markdown",
   "id": "0caacc05-e009-42d2-aa3e-c22917ee3087",
   "metadata": {},
   "source": [
    "## classical dff calculation"
   ]
  },
  {
   "cell_type": "code",
   "execution_count": null,
   "id": "5fa147e8-007a-4919-8f2d-ca8b5201adf7",
   "metadata": {},
   "outputs": [],
   "source": [
    "traces_dff = wb.traces.getdff.gpu(selected_traces[240:])"
   ]
  },
  {
   "cell_type": "code",
   "execution_count": null,
   "id": "ab4ad247-2eb0-45c5-9194-6ba4bdef3c31",
   "metadata": {},
   "outputs": [],
   "source": [
    "cix, fig = wb.visualize.rastermap.gpu(traces_dff, embed_options=dict(n_clusters=500), vmin=0, vmax=1, cmap='gray')"
   ]
  },
  {
   "cell_type": "code",
   "execution_count": null,
   "id": "a18ccb5b-24e7-4bad-a67b-8bd2a8442217",
   "metadata": {},
   "outputs": [],
   "source": []
  },
  {
   "cell_type": "markdown",
   "id": "7ee79da1-599d-429d-ac12-48cbd83090c7",
   "metadata": {},
   "source": [
    "## deconvolution of raw traces"
   ]
  },
  {
   "cell_type": "code",
   "execution_count": null,
   "id": "5f7d1a09-27b4-469d-9eb3-2073b6ad3082",
   "metadata": {},
   "outputs": [],
   "source": [
    "%%time\n",
    "traces_dec, polyfit, loss, T = wb.traces.simple_sparse_deconvolve.gpu(selected_traces[240:], alpha=.1, tau=4, fit_poly=2, force_positive=True, n_iter=500)"
   ]
  },
  {
   "cell_type": "code",
   "execution_count": null,
   "id": "73943977-4e45-4bbb-8c8f-a7d3e8483653",
   "metadata": {},
   "outputs": [],
   "source": [
    "traces_rec = T @ np.vstack([traces_dec, polyfit])\n",
    "traces_F0 = T[:,-polyfit.shape[0]:] @ polyfit"
   ]
  },
  {
   "cell_type": "code",
   "execution_count": null,
   "id": "dfc63191-8acb-48fa-8524-2bb55f7802ab",
   "metadata": {},
   "outputs": [],
   "source": [
    "plt.figure(figsize=(16,12))\n",
    "plt.subplot(2,2,1)\n",
    "plt.imshow(selected_traces[240:].T[cix], aspect='auto', vmin=0, vmax=1000, cmap='gray')\n",
    "plt.gca().set_title('raw traces')\n",
    "plt.subplot(2,2,2)\n",
    "plt.imshow(selected_traces[240:].T[cix] / traces_F0.T[cix] - 1, aspect='auto', vmin=0, vmax=1, cmap='gray')\n",
    "plt.gca().set_title('dF/F0_poly  (scaled 0..100%)')\n",
    "plt.subplot(2,2,3)\n",
    "plt.gca().set_title('deconvolved')\n",
    "plt.imshow(traces_dec.T[cix], aspect='auto', vmin=0, vmax=100, cmap='gray')\n",
    "plt.subplot(2,2,4)\n",
    "plt.gca().set_title('deconvolved / F0_poly (scaled 0..20%)')\n",
    "plt.imshow(traces_dec.T[cix]/traces_F0.T[cix], aspect='auto', vmin=0, vmax=.2, cmap='gray')"
   ]
  },
  {
   "cell_type": "code",
   "execution_count": null,
   "id": "7825f03c-4578-4c0e-af6b-79be5d567958",
   "metadata": {},
   "outputs": [],
   "source": [
    "plt.figure(figsize=(12,12))\n",
    "plt.subplot(2,1,1)\n",
    "plt.gca().set_title('raw traces and Lassso fit')\n",
    "#plt.plot(traces_rec.T[cix][::300].T);\n",
    "#plt.plot(selected_traces[240:].T[cix][::300].T, alpha=0.1);\n",
    "wb.visualize.plot_waterfall(traces_rec.T[cix][16::700].T, sep=1000, linewidth=0.5)\n",
    "wb.visualize.plot_waterfall(selected_traces[240:].T[cix][16::700].T, sep=1000, alpha=0.5, linewidth=1)\n",
    "plt.subplot(2,1,2)\n",
    "plt.gca().set_title('deconvolved')\n",
    "wb.visualize.plot_waterfall(traces_dec.T[cix][16::700].T, sep=1000, linewidth=0.5)"
   ]
  },
  {
   "cell_type": "code",
   "execution_count": null,
   "id": "d58b5e14-031d-48e3-980c-008f34d58d4e",
   "metadata": {},
   "outputs": [],
   "source": []
  },
  {
   "cell_type": "code",
   "execution_count": null,
   "id": "409f425f-03f9-4eda-b958-7af9d60a533b",
   "metadata": {},
   "outputs": [],
   "source": []
  },
  {
   "cell_type": "code",
   "execution_count": null,
   "id": "afde9a4b-c596-4c31-9c58-83bbbd6a88d3",
   "metadata": {},
   "outputs": [],
   "source": []
  },
  {
   "cell_type": "code",
   "execution_count": null,
   "id": "7f2fbaa9-6f47-478d-be0d-9da13194a439",
   "metadata": {},
   "outputs": [],
   "source": []
  },
  {
   "cell_type": "code",
   "execution_count": null,
   "id": "8363f5d6-f4e8-470b-9bd1-55d22ca92fe7",
   "metadata": {},
   "outputs": [],
   "source": []
  },
  {
   "cell_type": "code",
   "execution_count": null,
   "id": "26c9c5c3-e7b4-4a49-97c6-90ef096fd422",
   "metadata": {},
   "outputs": [],
   "source": []
  },
  {
   "cell_type": "code",
   "execution_count": null,
   "id": "3ae5718c-62a2-42e6-97c1-812c549d3953",
   "metadata": {},
   "outputs": [],
   "source": []
  },
  {
   "cell_type": "code",
   "execution_count": null,
   "id": "9741fc95-4288-4db3-b6a8-0d0e8cc186c1",
   "metadata": {},
   "outputs": [],
   "source": []
  },
  {
   "cell_type": "code",
   "execution_count": null,
   "id": "d5872fe2-1e40-4fc9-98c8-063e47862cc2",
   "metadata": {},
   "outputs": [],
   "source": []
  },
  {
   "cell_type": "code",
   "execution_count": null,
   "id": "03b483fa-e706-4b42-913b-9c07ff1c4f66",
   "metadata": {},
   "outputs": [],
   "source": []
  },
  {
   "cell_type": "markdown",
   "id": "48632a5a-f637-413c-9c9c-d29625d76c71",
   "metadata": {},
   "source": [
    "## Playground"
   ]
  },
  {
   "cell_type": "code",
   "execution_count": null,
   "id": "273e41ad-7e00-4711-9732-35e03aca3eff",
   "metadata": {},
   "outputs": [],
   "source": []
  },
  {
   "cell_type": "code",
   "execution_count": null,
   "id": "bf0e68cb-26cd-46f5-9d7a-84fc5ef48217",
   "metadata": {},
   "outputs": [],
   "source": []
  }
 ],
 "metadata": {
  "kernelspec": {
   "display_name": "Python [conda env:wholebrain]",
   "language": "python",
   "name": "conda-env-wholebrain-py"
  }
 },
 "nbformat": 4,
 "nbformat_minor": 5
}
