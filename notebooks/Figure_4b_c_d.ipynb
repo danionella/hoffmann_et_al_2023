{
 "cells": [
  {
   "cell_type": "markdown",
   "id": "400ce278-ea5f-43e9-8b95-260f8794bafc",
   "metadata": {
    "tags": []
   },
   "source": [
    "# Setup"
   ]
  },
  {
   "cell_type": "code",
   "execution_count": null,
   "id": "b7adb4e4-8aed-4c0a-93a2-62508f79a375",
   "metadata": {},
   "outputs": [],
   "source": [
    "!pip install -q condacolab\n",
    "import condacolab\n",
    "condacolab.install()"
   ]
  },
  {
   "cell_type": "code",
   "execution_count": null,
   "id": "cadeaf35-70ad-4dd6-bb30-12f2ce144c72",
   "metadata": {},
   "outputs": [],
   "source": [
    "!mamba  install  -q -y -c rapidsai -c conda-forge -c nvidia cucim cuml #cupy\n",
    "!git clone https://github.com/MaximilianHoffmann/test.git\n",
    "!pip install --ignore-installed  --quiet ./test\n",
    "!wget \"https://owncloud.charite.de/owncloud/index.php/s/zc9NTVJMw8AiuQn/download?path=%2F&files=20230611_export.h5\" -O data.h5"
   ]
  },
  {
   "cell_type": "markdown",
   "id": "852260d2-c233-43f8-b9e0-4ff132267778",
   "metadata": {
    "tags": []
   },
   "source": [
    "# Analysis"
   ]
  },
  {
   "cell_type": "code",
   "execution_count": 1,
   "id": "b0953008-f023-4b63-9d73-078d8d51cb62",
   "metadata": {
    "tags": []
   },
   "outputs": [
    {
     "name": "stderr",
     "output_type": "stream",
     "text": [
      "/home/hoffmmax/mambaforge/envs/hoffmann_et_al/lib/python3.8/site-packages/tqdm/auto.py:21: TqdmWarning: IProgress not found. Please update jupyter and ipywidgets. See https://ipywidgets.readthedocs.io/en/stable/user_install.html\n",
      "  from .autonotebook import tqdm as notebook_tqdm\n",
      "/home/hoffmmax/mambaforge/envs/hoffmann_et_al/lib/python3.8/site-packages/rmm/__init__.py:56: FutureWarning: Use of 'rmm.rmm_cupy_allocator' is deprecated and will be removed. 'rmm_cupy_allocator' now lives in the 'rmm.allocators.cupy' sub-module, please update your imports.\n",
      "  warnings.warn(\n"
     ]
    }
   ],
   "source": [
    "import h5py as h5\n",
    "import numpy as np\n",
    "from tqdm.auto import tqdm\n",
    "from wholebrain import util,cluster,spatial,regression\n",
    "from functools import partialmethod\n",
    "from matplotlib import pyplot as plt\n",
    "import matplotlib\n",
    "# TURN TQDM ON/OFF\n",
    "tqdm.__init__ = partialmethod(tqdm.__init__, disable=True)\n",
    "\n",
    "matplotlib.rcParams['pdf.fonttype'] = 42\n",
    "matplotlib.rcParams['ps.fonttype'] = 42\n",
    "c_voxel=\"#3B7BBF\"\n",
    "c_random='#F9A91C'\n",
    "c_pca='#ED1B50'\n"
   ]
  },
  {
   "cell_type": "code",
   "execution_count": 4,
   "id": "a70d7324-b6a9-4556-b9f8-a6148b2771c1",
   "metadata": {},
   "outputs": [],
   "source": [
    "def load_dset(name):\n",
    "    with h5.File('./data.h5','r') as fh5:\n",
    "        return fh5[name]['coords'][:],fh5[name]['dff'][:],fh5[name]['traces'][:]"
   ]
  },
  {
   "cell_type": "code",
   "execution_count": 5,
   "id": "2109835f-e80a-4f0d-9390-78bad4b90ee0",
   "metadata": {
    "tags": []
   },
   "outputs": [
    {
     "name": "stdout",
     "output_type": "stream",
     "text": [
      "Datasets: ['dset_0', 'dset_1', 'dset_2', 'dset_3', 'dset_4', 'dset_5']\n"
     ]
    }
   ],
   "source": [
    "data={}\n",
    "with h5.File('./data.h5','r') as fh5:\n",
    "    names=[n for n in fh5.keys()]\n",
    "    print('Datasets:', names)"
   ]
  },
  {
   "cell_type": "code",
   "execution_count": 6,
   "id": "308e4840-0ec4-4bc6-a884-459d2a0657b5",
   "metadata": {
    "tags": []
   },
   "outputs": [],
   "source": [
    "n_repeats=10\n",
    "alpha_repeats=5\n",
    "\n",
    "pars={\"global\": {\"stripe_period\":300,\n",
    "                 \"val_fraction\":0.2,\n",
    "                 \"test_fraction\":0.2,\n",
    "                 \"target_fraction\":0.1,\n",
    "                 \"alphas\":np.geomspace(1,10000,20).tolist(),\n",
    "                \"alpha_repeats\":alpha_repeats\n",
    "             },\n",
    " \"pca_reg\": \n",
    " {\"do\":True, \"dims_list\":np.geomspace(1, 1500, 200).tolist(),\"n_repeats\":n_repeats},\n",
    " \"random_predictors\": \n",
    " {\"do\":True, \"n_pred_list\": [100,200,400,1000,2000,5000,10000,20000],\"n_repeats\":n_repeats},\n",
    " \"voxelate\":\n",
    " {\"do\":True, \"s_bins_dim\": [5,10,25,50,100,150,200,500],\"n_pred_list\": [100,200,400,1000,2000,5000,10000,20000],\"n_repeats\":n_repeats},\n",
    "\"r2_scan\":{\"do\":True, \"s_bins\":[5,10,25,50,100,150,200,500],\"n_pred_list\": [100,200,400,1000,2000,5000,10000,20000],\"alphas\":np.geomspace(1,10000,20).tolist(),\"n_repeats\":n_repeats},\n",
    "     }"
   ]
  },
  {
   "cell_type": "code",
   "execution_count": 7,
   "id": "681df569-dd30-4447-a5de-230e9268fe21",
   "metadata": {
    "tags": []
   },
   "outputs": [],
   "source": [
    "coords,dff,traces=load_dset(names[0])\n",
    "dff_mu=(dff-np.nanmean(dff,0,keepdims=True))[~np.isnan(dff.sum(1))] # Centered Data without NANs ( motion)"
   ]
  },
  {
   "cell_type": "code",
   "execution_count": 8,
   "id": "94d6b3af-5714-4cea-b8b1-e63af58a9cdb",
   "metadata": {
    "tags": []
   },
   "outputs": [],
   "source": [
    "cv_train,cv_test,cv_val=util.create_crossvalidation_mask(dff_mu)\n",
    "n_targets = int(dff_mu.shape[1] * pars[\"global\"][\"target_fraction\"])\n",
    "max_npred=(1-pars['global']['target_fraction'])*dff_mu.shape[1]"
   ]
  },
  {
   "cell_type": "markdown",
   "id": "1dd9e1dc-b33d-4a1f-bf4a-02faa7e03b88",
   "metadata": {},
   "source": [
    "### Bi-crossvalidated PCA"
   ]
  },
  {
   "cell_type": "code",
   "execution_count": 9,
   "id": "5fc1d71d-e426-4049-89c5-128ff845fc07",
   "metadata": {
    "tags": []
   },
   "outputs": [],
   "source": [
    "r2_bcvpca = util.pca_run(dff_mu, cv_test + cv_train,pars[\"pca_reg\"][\"dims_list\"],n_targets=n_targets, n_repeats=pars[\"pca_reg\"][\"n_repeats\"],)\n"
   ]
  },
  {
   "cell_type": "markdown",
   "id": "4623f403-9054-4765-904e-bd25588e3342",
   "metadata": {
    "tags": []
   },
   "source": [
    "#### Determination of regularization parameter for ridge regression"
   ]
  },
  {
   "cell_type": "code",
   "execution_count": 10,
   "id": "9469d301-ec6a-43d1-a302-5ee8e1e89133",
   "metadata": {
    "tags": []
   },
   "outputs": [
    {
     "name": "stdout",
     "output_type": "stream",
     "text": [
      "Alpha Scan for regression\n"
     ]
    }
   ],
   "source": [
    "print(\"Alpha Scan for regression\")\n",
    "   \n",
    "alphas=pars[\"global\"][\"alphas\"]\n",
    "r2_l=[]\n",
    "s_bin=pars[\"voxelate\"][\"s_bins_dim\"]\n",
    "\n",
    "for alpha in alphas:\n",
    "        nnz, r2_voxelate = util.voxelate_regression(\n",
    "            [s_bin[len(s_bin)//2]],\n",
    "            dff_mu,\n",
    "            coords,\n",
    "            cv_test,\n",
    "            n_targets=n_targets,\n",
    "            n_repeats=pars[\"global\"][\"alpha_repeats\"],\n",
    "            alpha=alpha,\n",
    "        )\n",
    "        r2_l.append(r2_voxelate.mean()) \n",
    "        \n",
    "#Update global alpha parameter\n",
    "pars[\"global\"][\"alpha\"]=alphas[np.argmax(r2_l)]"
   ]
  },
  {
   "cell_type": "markdown",
   "id": "695b6890-07aa-4bb4-842f-3a512470d7b6",
   "metadata": {
    "tags": []
   },
   "source": [
    "#### Voxelized regression with determined alpha parameter"
   ]
  },
  {
   "cell_type": "code",
   "execution_count": 11,
   "id": "5bbddb8a-ea79-4056-8e0d-6a7a5722aefa",
   "metadata": {
    "tags": []
   },
   "outputs": [
    {
     "name": "stderr",
     "output_type": "stream",
     "text": [
      "/home/hoffmmax/repos/hoffmann_et_al_2023/src/wholebrain/regression.py:85: RuntimeWarning: invalid value encountered in matmul\n",
      "  XtXa = (X.T @ X) + xp.eye(X.shape[1]) * alpha\n"
     ]
    }
   ],
   "source": [
    "nnz, r2_voxelate = util.voxelate_regression(\n",
    "    pars[\"voxelate\"][\"s_bins_dim\"],\n",
    "    dff_mu,\n",
    "    coords,\n",
    "    cv_test + cv_train,\n",
    "    n_targets=n_targets,\n",
    "    n_repeats=pars[\"voxelate\"][\"n_repeats\"],\n",
    "    alpha=pars[\"global\"][\"alpha\"],\n",
    ")\n",
    "       \n"
   ]
  },
  {
   "cell_type": "markdown",
   "id": "b392583e-467e-4cee-bbf8-b926f93b9297",
   "metadata": {
    "tags": []
   },
   "source": [
    "#### Random Predictors"
   ]
  },
  {
   "cell_type": "code",
   "execution_count": 12,
   "id": "30b6e6eb-3c48-465e-bebf-cc1d11ff56fe",
   "metadata": {
    "tags": []
   },
   "outputs": [],
   "source": [
    "\n",
    "r2_rand_pred = util.ridge_random(\n",
    "    dff_mu,\n",
    "    pars[\"random_predictors\"][\"n_pred_list\"],\n",
    "    cv_test + cv_train,\n",
    "    n_repeats=pars[\"random_predictors\"][\"n_repeats\"],\n",
    "    alpha=pars[\"global\"][\"alpha\"],\n",
    "    n_targets=n_targets,\n",
    ")\n"
   ]
  },
  {
   "cell_type": "code",
   "execution_count": 13,
   "id": "7daec8a8-58ec-4d6d-b88b-f2601dd595e9",
   "metadata": {},
   "outputs": [
    {
     "name": "stderr",
     "output_type": "stream",
     "text": [
      "/tmp/ipykernel_3869668/558024558.py:25: UserWarning: Attempt to set non-positive xlim on a log-scaled axis will be ignored.\n",
      "  ax[1].set_xlim(0,None)\n"
     ]
    },
    {
     "data": {
      "image/png": "[encoded data removed]",
      "text/plain": [
       "<Figure size 640x480 with 2 Axes>"
      ]
     },
     "metadata": {},
     "output_type": "display_data"
    }
   ],
   "source": [
    "fig,ax=plt.subplots(2,1)\n",
    "ms=2\n",
    "lw=1\n",
    "ax[0].plot(r2_voxelate.voxelsize,r2_voxelate.mean('n_repeats'), '-',color='k',marker='o',markersize=ms)\n",
    "ax[0].set(xlabel='voxel side length (µm)', ylabel='R2')\n",
    "ax[0].set_xticks(np.arange(0,600,100))\n",
    "ax[0].set_ylim(0,0.4)\n",
    "ax[1].plot(np.floor(r2_bcvpca.dimensions)[::5],r2_bcvpca.mean('n_repeats')[::5],color=c_pca,linestyle='-',marker='o',markersize=ms,alpha=1,lw=lw)\n",
    "ax[1].fill_between(np.floor(r2_bcvpca.dimensions),r2_bcvpca.quantile(0.05,'n_repeats'),r2_bcvpca.quantile(0.95,'n_repeats'),alpha=0.3,color=c_pca,lw=0.01, label='PCs')\n",
    "\n",
    "\n",
    "ax[1].plot(r2_rand_pred.n_predictors,r2_rand_pred.mean('n_repeats'),color=c_random,linestyle='-',marker='o',markersize=ms,alpha=1,lw=lw)\n",
    "ax[1].fill_between(r2_rand_pred.n_predictors,r2_rand_pred.quantile(0.05,'n_repeats'),r2_rand_pred.quantile(0.95,'n_repeats'),alpha=0.3,color=c_random,lw=0.01, label='cells')\n",
    "\n",
    "ax[1].plot(nnz.mean('n_repeats'),r2_voxelate.mean('n_repeats'),c=c_voxel,linestyle='-',marker='o',markersize=ms,alpha=1,lw=lw)\n",
    "ax[1].fill_between(nnz.mean('n_repeats'),r2_voxelate.quantile(0.05,'n_repeats'),r2_voxelate.quantile(0.95,'n_repeats'),alpha=0.3,color=c_voxel,lw=0.01, label='voxels')\n",
    "\n",
    "\n",
    "ax[1].set_xscale('log')\n",
    "ax[1].set_xlabel('Number of predictors')\n",
    "ax[1].set_ylabel('R2')\n",
    "ax[1].legend()\n",
    "ax[1].set_xticks([10**x for x in range(0,6)])\n",
    "ax[1].set_ylim(0,0.4)\n",
    "ax[1].set_xlim(0,None)\n",
    "plt.tight_layout()"
   ]
  },
  {
   "cell_type": "markdown",
   "id": "f6c7d6f7-7bed-400c-a74b-6fb63cad8ddc",
   "metadata": {},
   "source": [
    "### De-coupling R2 and voxelsize"
   ]
  },
  {
   "cell_type": "code",
   "execution_count": 40,
   "id": "f95b968a-fcfc-424e-a547-22a4784a3e4b",
   "metadata": {
    "tags": []
   },
   "outputs": [],
   "source": [
    "R2s = util.voxelate_alpha_scan(\n",
    "        pars[\"r2_scan\"][\"s_bins\"],\n",
    "        pars[\"r2_scan\"][\"n_pred_list\"],\n",
    "        coords,\n",
    "        dff_mu,\n",
    "        cv_test,\n",
    "        cv_train,\n",
    "        pars[\"r2_scan\"][\"alphas\"],\n",
    "        n_repeats=pars[\"global\"][\"alpha_repeats\"],\n",
    "        n_targets=n_targets,\n",
    "    )\n",
    "alphas_max = R2s.mean(\"repeats\").idxmax(\"alphas\")\n",
    "\n",
    "R2s_val, batch_id = util.voxelate_all(\n",
    "    pars[\"r2_scan\"][\"s_bins\"],\n",
    "    pars[\"r2_scan\"][\"n_pred_list\"],\n",
    "    coords,\n",
    "    dff_mu,\n",
    "    cv_train + cv_test,\n",
    "    alphas_max,\n",
    "    n_repeats=pars[\"r2_scan\"][\"n_repeats\"],\n",
    "    n_targets=n_targets,\n",
    ")\n"
   ]
  },
  {
   "cell_type": "code",
   "execution_count": null,
   "id": "d4ae3b4f-acd0-4ccf-9148-dae6a6a1e2b2",
   "metadata": {},
   "outputs": [],
   "source": [
    "##### R2 Plot\n",
    "\n",
    "\n",
    "p_in=os.path.join(pn,name_example)\n",
    "res=load_from_h5(os.path.join(p_in,'results.h5'))\n",
    "R2s=xr.load_dataarray(os.path.join(p_in,'R2s.netcdf'))\n",
    "R2s_val=xr.load_dataarray(os.path.join(p_in,'R2s_val.netcdf'))\n",
    "batch_id=xr.load_dataarray(os.path.join(p_in,'batch_id.netcdf'))\n",
    "var=xr.DataArray(res['dff_traces_m'][res['cv_val']].var(0),dims='cells')\n",
    "\n",
    "for nn in R2s_val.num_predictors:\n",
    "    color = next(ax._get_lines.prop_cycler)['color']\n",
    "    vox_list=[]\n",
    "    for vx_sz in R2s_val.voxel_size:\n",
    "        batch_means=[]\n",
    "        for irep in R2s_val.repeats:\n",
    "            arr=batch_id[0].sel(num_predictors=nn).isel(repeats=irep).sel(voxel_size=vx_sz)\n",
    "            arr_r2=R2s_val[0].sel(num_predictors=nn).isel(repeats=irep).sel(voxel_size=vx_sz)\n",
    "\n",
    "            batch_nr,indx=np.unique(arr,return_inverse=True)\n",
    "\n",
    "            for ii in range(max(indx)):\n",
    "                batch_mask=(indx==ii)\n",
    "                batch_means.append(np.average(arr_r2[batch_mask],weights=var[batch_mask]))\n",
    "        vox_list.append(batch_means)\n",
    "\n",
    "    axs['D'].plot(R2s_val.voxel_size,[np.nanmean(x) for x in vox_list],ls='-',c=color,label=f'{int(nn)}')\n",
    "    axs['D'].fill_between(R2s_val.voxel_size,[np.nanpercentile(x,95) for x in vox_list],[np.nanpercentile(x,5) for x in vox_list],alpha=opac,color=color,lw=0.01)\n",
    "\n",
    "    vox_list=[]\n",
    "    for vx_sz in R2s_val.voxel_size:\n",
    "        batch_means=[]\n",
    "        for irep in R2s_val.repeats:\n",
    "            arr=batch_id[1].sel(num_predictors=nn).isel(repeats=irep).sel(voxel_size=vx_sz)\n",
    "            arr_r2=R2s_val[1].sel(num_predictors=nn).isel(repeats=irep).sel(voxel_size=vx_sz)\n",
    "\n",
    "            batch_nr,indx=np.unique(arr,return_inverse=True)\n",
    "\n",
    "            for ii in range(max(indx)):\n",
    "                batch_mask=(indx==ii)\n",
    "                batch_means.append(np.average(arr_r2[batch_mask],weights=var[batch_mask]))\n",
    "        vox_list.append(batch_means)\n",
    "\n",
    "    axs['D'].plot(R2s_val.voxel_size,[np.nanmean(x) for x in vox_list],ls='--',c=color, label='')\n",
    "    axs['D'].fill_between(R2s_val.voxel_size,[np.nanpercentile(x,95) for x in vox_list],[np.nanpercentile(x,5) for x in vox_list],alpha=opac,color=color,lw=0.01)#,hatch=\"*\")\n",
    "axs['D'].set_ylim(0,0.5)\n",
    "plt.plot([], [],' ',ls='--', label=\"shuffled\")\n",
    "axs['D'].legend(ncol=2,loc='upper right')\n",
    "axs['D'].set(xlabel='voxel side length (µm)', ylabel='R2')"
   ]
  }
 ],
 "metadata": {
  "kernelspec": {
   "display_name": "Python [conda env:hoffmann_et_al]",
   "language": "python",
   "name": "conda-env-hoffmann_et_al-py"
  },
  "language_info": {
   "codemirror_mode": {
    "name": "ipython",
    "version": 3
   },
   "file_extension": ".py",
   "mimetype": "text/x-python",
   "name": "python",
   "nbconvert_exporter": "python",
   "pygments_lexer": "ipython3",
   "version": "3.8.16"
  }
 },
 "nbformat": 4,
 "nbformat_minor": 5
}
