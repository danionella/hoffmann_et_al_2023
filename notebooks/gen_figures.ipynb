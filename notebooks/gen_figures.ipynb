{
 "cells": [
  {
   "cell_type": "code",
   "execution_count": null,
   "id": "6b883efe-dacf-4273-bff4-84cd8c50c5c2",
   "metadata": {
    "tags": []
   },
   "outputs": [],
   "source": [
    "import h5py as h5\n",
    "import os\n",
    "import json\n",
    "import sys\n",
    "import re\n",
    "import importlib\n",
    "from scipy.spatial.transform import Rotation\n",
    "from matplotlib.colors import LinearSegmentedColormap\n",
    "from matplotlib.colors import ListedColormap\n",
    "import numpy as np\n",
    "from opm_img.util import load_from_h5\n",
    "import wholebrain as wb\n",
    "from matplotlib import pyplot as plt\n",
    "from types import SimpleNamespace  \n",
    "from scipy.optimize import minimize\n",
    "%matplotlib widget\n",
    "bwrblack = LinearSegmentedColormap.from_list('map0', [(.25, .25, 1), (0, 0, 0), (1, .25, .25)], N=256)\n",
    "bwrblack_a = bwrblack(np.arange(bwrblack.N))\n",
    "bwrblack_a[:,-1] = np.abs(np.linspace(-1, 1, len(bwrblack_a)))\n",
    "bwrblack_a = ListedColormap(bwrblack_a)\n",
    "\n",
    "magma = plt.get_cmap('magma')\n",
    "magma_a = magma(np.arange(magma.N))\n",
    "magma_a[:,-1] = np.linspace(0, 1, magma.N)\n",
    "magma_a = ListedColormap(magma_a)\n"
   ]
  },
  {
   "cell_type": "code",
   "execution_count": null,
   "id": "fd24f42b-33c4-452c-bcc2-613ece2c1932",
   "metadata": {
    "tags": []
   },
   "outputs": [],
   "source": [
    "import matplotlib\n",
    "matplotlib.rcParams['pdf.fonttype'] = 42\n",
    "matplotlib.rcParams['ps.fonttype'] = 42\n",
    "i2m=25.4\n",
    "c_voxel=\"#3B7BBF\"\n",
    "c_random='#F9A91C'\n",
    "c_pca='#ED1B50'"
   ]
  },
  {
   "cell_type": "code",
   "execution_count": null,
   "id": "4e1f8f43-bf96-4ae6-89c5-5dce9382d18a",
   "metadata": {
    "tags": []
   },
   "outputs": [],
   "source": [
    "out='/home/hoffmmax/project/max/analysis/all_2/'\n",
    "names = [ '20211105_1332_no_stimulus',\"20220610_1532_No_stimulus\", \"20220610_1428_No_stimulus\"]\n",
    "\n",
    "all_dsets={}\n",
    "n_s=[]\n",
    "for name in names:\n",
    "    print(name)\n",
    "    \n",
    "    res_large=h5.File(os.path.join(out,name,'res_large.h5'),'r')\n",
    "    res=load_from_h5(os.path.join(out,name,'res.h5'))\n",
    "    pars=load_from_h5(os.path.join(out,name,'pars.h5'))\n",
    "    all_dsets[name]={'res':res,'pars':pars,'res_large':res_large}\n",
    "    n_s.append(res_large['cc'].shape[0])\n",
    "\n"
   ]
  },
  {
   "cell_type": "code",
   "execution_count": null,
   "id": "ab4381ae-dcb5-40c1-97a3-b2204caae84b",
   "metadata": {
    "tags": []
   },
   "outputs": [],
   "source": [
    "def binfcn(x):\n",
    "    return np.nanmean(x), np.quantile(x,0.05), np.quantile(x,0.95)\n",
    "n_step=100\n",
    "dist_bins = np.r_[10:1000:5]\n",
    "binstats_list=[]\n",
    "for k,v in all_dsets.items():\n",
    "        binstats = wb.legacy.apply_to_bins(v['res_large']['pd'][:].ravel()[::n_step], dist_bins, v['res_large']['cc'][:].ravel()[::n_step], binfcn)\n",
    "        binstats_list.append(binstats)"
   ]
  },
  {
   "cell_type": "code",
   "execution_count": null,
   "id": "6c8716f1-1c71-45a8-a93a-5ae4f39db722",
   "metadata": {
    "tags": []
   },
   "outputs": [],
   "source": [
    "fig,ax=plt.subplots()\n",
    "for name, dset in all_dsets.items():\n",
    "    res=dset['res']\n",
    "    ax.plot(res['alphas'],res['r2s'])\n",
    "    print(res['alpha'])\n",
    "ax.set_xscale('log')"
   ]
  },
  {
   "cell_type": "code",
   "execution_count": null,
   "id": "d5cbec24-69b5-4628-99f0-921df2c412c9",
   "metadata": {
    "tags": []
   },
   "outputs": [],
   "source": [
    "fig, ax = plt.subplots( figsize=(60/i2m, 50/i2m))\n",
    "for binstats in binstats_list:\n",
    "    ax.plot(dist_bins[1: - 1], binstats[1:, 0], 'k', label='average')\n",
    "    ax.fill_between(dist_bins[1: - 1], binstats[1:, 1], binstats[1:, 2], label='5%-95%',alpha=0.2)\n",
    "#ax.set_ylim(0.01, 1)\n",
    "#ax.set_xlim(None, 1500)\n",
    "#ax.set_xticks((0,0.1,0.2,0.4))\n",
    "#ax.set_xscale('log')\n",
    "#ax.set_yscale('log')\n",
    "ax.set_xlabel('Distance (µm)')\n",
    "ax.set_ylabel(\"Pearson's r\")\n",
    "plt.tight_layout()\n",
    "#plt.savefig(os.path.join(out,  'correaltions.pdf'))\n",
    "#ax.legend()"
   ]
  },
  {
   "cell_type": "code",
   "execution_count": null,
   "id": "da479fc2-38ea-4bd3-9d6f-e3bda4412fb6",
   "metadata": {
    "tags": []
   },
   "outputs": [],
   "source": [
    "fig, axa  = plt.subplots(1,3 ,figsize=(220/i2m, 50/i2m))\n",
    "\n",
    "for ii,binstats in enumerate(binstats_list):\n",
    "    ax=axa[ii]\n",
    "    xx=dist_bins[: - 1]\n",
    "    yy=binstats[:, 0]\n",
    "\n",
    "    powlaw= lambda x,a,k: a*xx**(k)\n",
    "    mse= lambda a: np.sum((powlaw(xx,a[0],a[1])-yy)**2)\n",
    "    a=minimize(mse,[yy.max(),-1])\n",
    "    ax.plot(xx, yy, label='average',lw=0.5)\n",
    "    ax.plot(xx, powlaw(xx,*a.x).squeeze(), label='average',lw=0.5)\n",
    "    ax.set_xscale('log')\n",
    "    ax.set_yscale('log')\n",
    "    ax.set_xlabel('Distance (µm)')\n",
    "    ax.set_ylabel(\"Pearson's r\")\n",
    "    ax.set_title(f\"{a.x[1]:.2}\")\n",
    "plt.tight_layout()"
   ]
  },
  {
   "cell_type": "code",
   "execution_count": null,
   "id": "40fed1ad-46b3-4b46-b33a-385adf6fe69d",
   "metadata": {
    "tags": []
   },
   "outputs": [],
   "source": [
    "fig, ax = plt.subplots( figsize=(80/i2m, 50/i2m))\n",
    "for binstats in binstats_list:\n",
    "    ax.plot(dist_bins[1: - 1], binstats[1:, 0], label='average',lw=0.5)\n",
    "    #ax.fill_between(dist_bins[1: - 1], binstats[1:, 1], binstats[1:, 2], label='5%-95%')\n",
    "ax.set_ylim(0.01, 0.4)\n",
    "#ax.set_xlim(None, 1500)\n",
    "#ax.set_xticks((0,0.1,0.2,0.4))\n",
    "ax.set_xscale('log')\n",
    "ax.set_yscale('log')\n",
    "ax.set_xlabel('Distance (µm)')\n",
    "ax.set_ylabel(\"Pearson's r\")\n",
    "plt.tight_layout()\n",
    "plt.savefig(os.path.join(out,  'correaltions.pdf'))\n",
    "#ax.legend()"
   ]
  },
  {
   "cell_type": "code",
   "execution_count": null,
   "id": "0c0891d4-a09f-410d-a8ea-32ee903e0281",
   "metadata": {
    "tags": []
   },
   "outputs": [],
   "source": [
    "fig, ax = plt.subplots( figsize=(60/i2m, 50/i2m))\n",
    "for ii,binstats in enumerate(binstats_list):\n",
    "    ax.plot(dist_bins[1: - 1], binstats[1:, 0],label=names[ii])\n",
    "    #ax.fill_between(dist_bins[1: - 1], binstats[1:, 1], binstats[1:, 2], label='5%-95%')\n",
    "ax.set_ylim(0.01, 1)\n",
    "#ax.set_xlim(None, 1500)\n",
    "#ax.set_xticks((0,0.1,0.2,0.4))\n",
    "ax.set_xscale('log')\n",
    "ax.set_yscale('log')\n",
    "ax.set_xlabel('Distance (µm)')\n",
    "ax.set_ylabel(\"Pearson's r\")\n",
    "plt.tight_layout()\n",
    "#plt.savefig(os.path.join(out,  'correaltions.pdf'))\n",
    "#plt.legend()\n",
    "#ax.legend()"
   ]
  },
  {
   "cell_type": "code",
   "execution_count": null,
   "id": "a8d6fbe2-d065-40bb-ac53-1525e93fe394",
   "metadata": {
    "tags": []
   },
   "outputs": [],
   "source": [
    "fig, ax = plt.subplots( figsize=(60/i2m, 50/i2m))\n",
    "for binstats in binstats_list:\n",
    "    ax.plot(dist_bins[1: - 1], binstats[1:, 0], 'k', label='average')\n",
    "    #ax.fill_between(dist_bins[1: - 1], binstats[1:, 1], binstats[1:, 2], label='5%-95%')\n",
    "ax.set_ylim(0.01, 1)\n",
    "#ax.set_xlim(None, 1500)\n",
    "#ax.set_xticks((0,0.1,0.2,0.4))\n",
    "#ax.set_xscale('log')\n",
    "#ax.set_yscale('log')\n",
    "ax.set_xlabel('Distance (µm)')\n",
    "ax.set_ylabel(\"Pearson's r\")\n",
    "plt.tight_layout()\n",
    "plt.savefig(os.path.join(out,  'correaltions.pdf'))\n",
    "#ax.legend()"
   ]
  },
  {
   "cell_type": "code",
   "execution_count": null,
   "id": "c045ae17-f97e-4e73-9e35-58dfef4ab762",
   "metadata": {
    "tags": []
   },
   "outputs": [],
   "source": [
    "for name,dset in all_dsets.items():\n",
    "    res=dset['res']\n",
    "    pars=dset['pars']\n",
    "    print(\"Estimated Dim:\" ,pars[\"dims_list\"][np.argmax(res[\"r2_bcvpca\"].mean(0))])\n",
    "    print(\"Explained R2:\",np.max(res[\"r2_bcvpca\"].mean(0)))"
   ]
  },
  {
   "cell_type": "code",
   "execution_count": null,
   "id": "8c538cfc-d9e1-452b-b1a4-e058ca4f781f",
   "metadata": {
    "tags": []
   },
   "outputs": [],
   "source": [
    "##\n",
    "name='20211105_1332_no_stimulus'\n",
    "dset=all_dsets[name]\n",
    "res=dset['res']\n",
    "pars=dset['pars']\n",
    "\n",
    "## Plot all in one\n",
    "fig, ax = plt.subplots(1, 1, figsize=(80/i2m, 46/i2m))\n",
    "print(pars['stripe_period'])\n",
    "ax.plot(res['nnz'].mean(0), res[\"r2_voxelate\"].mean(0), '.-', label='# nonzero voxels',c=c_voxel)\n",
    "ax.fill_between(res['nnz'].mean(0), np.quantile(res['r2_voxelate'], 0.05, axis=0), np.quantile(res[\"r2_voxelate\"], 0.95, axis=0),\n",
    "                alpha=0.3)\n",
    "\n",
    "ax.plot(np.array(pars[\"n_pred_list\"]), np.array(res[\"r2_rand_pred\"].mean(0)), '.-', label='# cells',c=c_random)\n",
    "ax.fill_between(np.array(pars[\"n_pred_list\"]), np.quantile(res[\"r2_rand_pred\"], 0.05, axis=0),\n",
    "                np.quantile(res[\"r2_rand_pred\"], 0.95, axis=0), alpha=0.3)\n",
    "# ax.plot(n_preds_list, r2_rand_pred, '.-', label='# predictor cells')\n",
    "\n",
    "ax.plot(pars[\"dims_list\"], np.array(res[\"r2_bcvpca\"].mean(0)), '.-', label='# PCA dimensions',c=c_pca)\n",
    "ax.fill_between(pars[\"dims_list\"], np.quantile(res[\"r2_bcvpca\"], 0.05, axis=0), np.quantile(res[\"r2_bcvpca\"], 0.95, axis=0),color=c_pca, alpha=0.3)\n",
    "\n",
    "ax.set(xlabel='# predictors', ylabel='R$^2$', xscale='log')\n",
    "ax.set_xticks(10**np.arange(5))\n",
    "plt.tight_layout()\n",
    "plt.savefig(os.path.join(out,  'PCA_vs_cells_voxels.pdf'))\n",
    "#plt.savefig(os.path.join(p_out, 'PCA_vs_cells_voxels.pdf'))\n",
    "print(pars[\"dims_list\"][np.argmax(res[\"r2_bcvpca\"].mean(0))])\n",
    "print(np.max(res[\"r2_bcvpca\"].mean(0)))"
   ]
  },
  {
   "cell_type": "code",
   "execution_count": null,
   "id": "e5180cb3-d268-4be9-bd33-98a8e9d72a44",
   "metadata": {
    "tags": []
   },
   "outputs": [],
   "source": [
    "fig, ax = plt.subplots(figsize=(86/i2m, 50/i2m))\n",
    "fig.suptitle('regression of cellular activity against voxelized activity')\n",
    "for name,dset in all_dsets.items():\n",
    "    dset=all_dsets[name]\n",
    "    res=dset['res']\n",
    "    pars=dset['pars']\n",
    "    print(pars['stripe_period'])\n",
    "    ax.plot(pars[\"s_bins_dim\"], res[\"r2_voxelate\"][:].squeeze().mean(0), '.-',label=f\"{name}\",color='k')\n",
    "    #plt.legend()\n",
    "ax.set_xlim(0,None)\n",
    "ax.set(xlabel='voxel side length (µm)', ylabel='R$^2$')\n",
    "plt.tight_layout()\n",
    "plt.savefig(os.path.join(out, 'voxelsize_R2_all.pdf'))\n",
    "print(np.max(res[\"r2_voxelate\"][:].squeeze().mean(0)))"
   ]
  },
  {
   "cell_type": "code",
   "execution_count": null,
   "id": "c9e4a845-63d5-4301-b743-4f7943bb377e",
   "metadata": {
    "tags": []
   },
   "outputs": [],
   "source": [
    "fig, ax = plt.subplots(figsize=(86/i2m, 50/i2m))\n",
    "#fig.suptitle('regression of cellular activity against voxelized activity')\n",
    "#for name,dset in all_dsets.items():\n",
    "name='20211105_1332_no_stimulus'\n",
    "dset=all_dsets[name]\n",
    "res=dset['res']\n",
    "pars=dset['pars']\n",
    "print(pars['stripe_period'])\n",
    "ax.plot(pars[\"s_bins_dim\"], res[\"r2_voxelate\"][:].squeeze().mean(0), '.-',label=f\"{name}\",color='k')\n",
    "#plt.legend()\n",
    "ax.set_xlim(0,None)\n",
    "ax.set(xlabel='voxel side length (µm)', ylabel='R$^2$')\n",
    "plt.tight_layout()\n",
    "plt.savefig(os.path.join(out, 'voxelsize_R2.pdf'))\n",
    "print(np.max(res[\"r2_voxelate\"][:].squeeze().mean(0)))"
   ]
  },
  {
   "cell_type": "code",
   "execution_count": null,
   "id": "c2eb1243-ed87-4c5c-80c2-32aca7160021",
   "metadata": {
    "tags": []
   },
   "outputs": [],
   "source": [
    "for name,dset in all_dsets.items():\n",
    "    res=dset['res']\n",
    "    pars=dset['pars']\n",
    "    fig, ax =plt.subplots(figsize=(106/i2m, 106/i2m))\n",
    "    #plt.title(f'randomly selected non-empty predictor voxels')\n",
    "    res=dset['res']\n",
    "    pars=dset['pars']\n",
    "\n",
    "    for i in range(len(pars[\"n_pred_list\"])):\n",
    "        color = next(ax._get_lines.prop_cycler)['color']\n",
    "        ax.fill_between(pars[\"s_bins\"], np.quantile(res[\"R2s\"][i], 0.05, axis=0), np.quantile(res[\"R2s\"][i], 0.95, axis=0), color=color,\n",
    "                        alpha=0.3, label='5%-95%' if i == 0 else None)\n",
    "        ax.fill_between(pars[\"s_bins\"], np.quantile(res[\"R2s_shuffled\"][i], 0.05, axis=0), np.quantile(res[\"R2s_shuffled\"][i], 0.95, axis=0),\n",
    "                  color=color, alpha=0.1)\n",
    "        ax.plot(pars[\"s_bins\"], res[\"R2s_shuffled\"][i].mean(0), ':', color=color, label='cells shuffled' if i == 0 else None, alpha=0.5)\n",
    "        ax.plot(pars[\"s_bins\"], res[\"R2s\"][i].mean(0), label=f'{pars[\"n_pred_list\"][i]} voxels', color=color)\n",
    "    ax.set(ylim=(0, 0.5), xlim=(0, None), xlabel='voxel side length (µm)', ylabel='R$^2$')\n",
    "    plt.legend()\n",
    "    plt.savefig(os.path.join(out, f'{name}_constant_R2.pdf'))\n",
    "    \n",
    "    r0=res[\"R2s\"].mean(1)\n",
    "    print(np.nanmax(np.abs((r0-r0[:,0][:,None]))))\n"
   ]
  },
  {
   "cell_type": "code",
   "execution_count": null,
   "id": "ee984242-82b5-47bc-a81c-b9375c1ef57e",
   "metadata": {
    "tags": []
   },
   "outputs": [],
   "source": [
    "res.coords=res.coords*[1,1,-1]"
   ]
  },
  {
   "cell_type": "code",
   "execution_count": null,
   "id": "2087666a-50fb-4f49-bcd4-207e22e97c47",
   "metadata": {
    "tags": []
   },
   "outputs": [],
   "source": [
    "name=\"20211105_1332_no_stimulus\""
   ]
  },
  {
   "cell_type": "code",
   "execution_count": null,
   "id": "366c4f6d-2a04-434c-b9a9-88df97f61bd0",
   "metadata": {
    "tags": []
   },
   "outputs": [],
   "source": [
    "all_dsets[name]['res'].keys()"
   ]
  },
  {
   "cell_type": "code",
   "execution_count": null,
   "id": "501f5f5e-57c9-4392-9348-d02fba097d80",
   "metadata": {
    "tags": []
   },
   "outputs": [],
   "source": [
    "wb.visualize.scatter_brain(all_dsets[name]['res']['coords'][:], c=all_dsets[name]['res']['ipsi_cc'][:], vmin=0, vmax=0.4, cmap=magma_a,off=[-800,1500])\n",
    "plt.title('correlation with neighborhood')\n",
    "plt.savefig(os.path.join(out, 'ipsi.pdf'))"
   ]
  },
  {
   "cell_type": "code",
   "execution_count": null,
   "id": "fc40a103-40fb-4309-8746-3dc909ee515e",
   "metadata": {
    "tags": []
   },
   "outputs": [],
   "source": [
    "fig,ax=wb.visualize.scatter_brain(all_dsets[name]['res']['coords'][:], c=all_dsets[name]['res']['contra_cc'][:], vmin=0, vmax=0.5, cmap=magma_a,off=[-800,1500],plot_midline=True)\n",
    "\n",
    "plt.title('correlation with neighborhood contra')\n",
    "plt.savefig(os.path.join(out, 'conta.pdf'))"
   ]
  },
  {
   "cell_type": "code",
   "execution_count": null,
   "id": "f5ca7e7e-ec1c-40f6-88fc-0d50ea32f5f9",
   "metadata": {},
   "outputs": [],
   "source": [
    "wb.scatter_brain(all_dsets[name]['res']['coords'][:], c=all_dsets[name]['res']['ipsi_cc'][:]-all_dsets[name]['res']['contra_cc'][:], vmin=0, vmax=0.1, cmap=magma_a,off=[-800,1500])\n",
    "plt.title('correlation with neighborhood')\n",
    "plt.savefig(os.path.join(out, 'ipsi_contra.pdf'))"
   ]
  }
 ],
 "metadata": {
  "kernelspec": {
   "display_name": "Python [conda env:img]",
   "language": "python",
   "name": "conda-env-img-py"
  },
  "language_info": {
   "codemirror_mode": {
    "name": "ipython",
    "version": 3
   },
   "file_extension": ".py",
   "mimetype": "text/x-python",
   "name": "python",
   "nbconvert_exporter": "python",
   "pygments_lexer": "ipython3",
   "version": "3.8.15"
  }
 },
 "nbformat": 4,
 "nbformat_minor": 5
}
