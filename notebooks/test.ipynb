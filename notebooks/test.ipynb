{
 "cells": [
  {
   "cell_type": "code",
   "execution_count": null,
   "id": "47bd1d44-35ad-4df4-a483-909d3305e5f5",
   "metadata": {},
   "outputs": [],
   "source": [
    "import wholebrain as wb\n",
    "import numpy as np\n",
    "import cupy as cp"
   ]
  },
  {
   "cell_type": "code",
   "execution_count": null,
   "id": "6b43d305-9cd9-4376-bd12-732eb3592007",
   "metadata": {},
   "outputs": [],
   "source": [
    "r = np.random.randn(1000,2000)"
   ]
  },
  {
   "cell_type": "code",
   "execution_count": null,
   "id": "19065794-5ee5-4fe6-88f7-0c08897d8e97",
   "metadata": {},
   "outputs": [],
   "source": [
    "%%time\n",
    "out = wb.traces.getdff(r)\n",
    "out.__class__.__module__"
   ]
  },
  {
   "cell_type": "code",
   "execution_count": null,
   "id": "746b169a-bccd-4eab-a457-45a79f4fc95f",
   "metadata": {},
   "outputs": [],
   "source": [
    "%%time\n",
    "out = wb.traces.getdff.gpu(r)\n",
    "out.__class__.__module__"
   ]
  },
  {
   "cell_type": "code",
   "execution_count": null,
   "id": "25d8ea62-9803-4374-bd29-55b3e393055a",
   "metadata": {},
   "outputs": [],
   "source": [
    "rc = cp.array(r)"
   ]
  },
  {
   "cell_type": "code",
   "execution_count": null,
   "id": "eefd07a7-3a8a-4f76-9357-cf1e3c24566d",
   "metadata": {},
   "outputs": [],
   "source": [
    "%%time\n",
    "out = wb.traces.getdff.gpu(rc)\n",
    "out.__class__.__module__"
   ]
  },
  {
   "cell_type": "code",
   "execution_count": null,
   "id": "3af05e0d-b9b2-4eb6-a51f-5dcf7d143706",
   "metadata": {},
   "outputs": [],
   "source": [
    "r[:].shape"
   ]
  },
  {
   "cell_type": "code",
   "execution_count": null,
   "id": "8e926ad7-9a43-4024-82b2-7f4d6083536a",
   "metadata": {},
   "outputs": [],
   "source": [
    "%%time\n",
    "out = np.linalg.svd(rc, full_matrices=False)"
   ]
  },
  {
   "cell_type": "code",
   "execution_count": null,
   "id": "e6993deb-6fcc-4c9b-85ac-9c35f07aacbe",
   "metadata": {},
   "outputs": [],
   "source": [
    "out[0].__class__.__module__"
   ]
  },
  {
   "cell_type": "code",
   "execution_count": null,
   "id": "e13aa778-0f52-4645-b553-9d0807704ff7",
   "metadata": {},
   "outputs": [],
   "source": []
  },
  {
   "cell_type": "code",
   "execution_count": null,
   "id": "e1e3fa6c-96fd-43b3-8916-21250d9d4b8b",
   "metadata": {},
   "outputs": [],
   "source": []
  }
 ],
 "metadata": {
  "kernelspec": {
   "display_name": "opm",
   "language": "python",
   "name": "python3"
  },
  "language_info": {
   "codemirror_mode": {
    "name": "ipython",
    "version": 3
   },
   "file_extension": ".py",
   "mimetype": "text/x-python",
   "name": "python",
   "nbconvert_exporter": "python",
   "pygments_lexer": "ipython3",
   "version": "3.9.15 | packaged by conda-forge | (main, Nov 22 2022, 15:55:03) \n[GCC 10.4.0]"
  },
  "vscode": {
   "interpreter": {
    "hash": "498ab4c2fa9428afbf38c8b318dfd553524224d3d38cf036fac93aacf85ad214"
   }
  }
 },
 "nbformat": 4,
 "nbformat_minor": 5
}
