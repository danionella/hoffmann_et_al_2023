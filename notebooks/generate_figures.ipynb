{
 "cells": [
  {
   "cell_type": "markdown",
   "id": "70442bc5-0bab-45fb-b4bc-e7330e126bc8",
   "metadata": {},
   "source": [
    "# Setup"
   ]
  },
  {
   "cell_type": "code",
   "execution_count": null,
   "id": "9faf3c02-d3de-423b-aa0c-6bd3baf358b6",
   "metadata": {
    "tags": []
   },
   "outputs": [],
   "source": [
    "!pip install -q condacolab\n",
    "import condacolab\n",
    "condacolab.install()"
   ]
  },
  {
   "cell_type": "code",
   "execution_count": null,
   "id": "386391d3-9941-46cd-8365-243c011e5d21",
   "metadata": {},
   "outputs": [],
   "source": [
    "!mamba  install  -q -y -c rapidsai -c conda-forge -c nvidia cucim cuml #cupy\n",
    "!git clone https://github.com/danionella/hoffmann_et_al_2023.git\n",
    "!pip install --ignore-installed  --quiet ./hoffmann_et_al_2023\n",
    "!wget \"https://owncloud.charite.de/owncloud/index.php/s/zc9NTVJMw8AiuQn/download?path=%2F&files=20230611_export_3.h5\" -O data.h5"
   ]
  },
  {
   "cell_type": "markdown",
   "id": "dc60a4b2-88b5-4626-8039-fb5109567e43",
   "metadata": {},
   "source": [
    "# Analysis"
   ]
  },
  {
   "cell_type": "markdown",
   "id": "e8f2b6fa-f9b1-4d78-b7bb-32fd6be40afc",
   "metadata": {
    "tags": []
   },
   "source": [
    "## Run in any case"
   ]
  },
  {
   "cell_type": "code",
   "execution_count": 18,
   "id": "b0953008-f023-4b63-9d73-078d8d51cb62",
   "metadata": {
    "tags": []
   },
   "outputs": [],
   "source": [
    "import h5py as h5\n",
    "import numpy as np\n",
    "from tqdm.auto import tqdm\n",
    "from wholebrain import util,cluster,spatial,regression,stats\n",
    "from matplotlib import pyplot as plt\n",
    "import xarray as xr\n",
    "import os\n",
    "import matplotlib\n",
    "import cupy as cp\n",
    "from scipy.stats import pearsonr\n",
    "from scipy.optimize import minimize\n",
    "\n",
    "c_voxel=\"#3B7BBF\"\n",
    "c_random='#F9A91C'\n",
    "c_pca='#ED1B50'\n",
    "\n",
    "\n",
    "def binfcn(x):\n",
    "    return np.nanmean(x), np.quantile(x,0.05), np.quantile(x,0.95)\n",
    "\n",
    "def load_dset(name):\n",
    "    with h5.File('./data.h5','r') as fh5:\n",
    "        return fh5[name]['coords'][:],fh5[name]['dff'][:],fh5[name]['traces'][:]"
   ]
  },
  {
   "cell_type": "code",
   "execution_count": 2,
   "id": "208cad86-23ff-437b-9445-74d87bc575fd",
   "metadata": {
    "tags": []
   },
   "outputs": [
    {
     "name": "stdout",
     "output_type": "stream",
     "text": [
      "Datasets: ['dset_0', 'dset_1', 'dset_2', 'dset_3', 'dset_4', 'dset_5']\n"
     ]
    }
   ],
   "source": [
    "data={}\n",
    "with h5.File('./data.h5','r') as fh5:\n",
    "    names=[n for n in fh5.keys()]\n",
    "    print('Datasets:', names)\n",
    "   \n",
    "p_out='tmp'\n",
    "os.makedirs(os.path.join('./',p_out),exist_ok=True)"
   ]
  },
  {
   "cell_type": "markdown",
   "id": "cd0b119c-2ed1-4a1f-ac26-7e341ed7e974",
   "metadata": {},
   "source": [
    "## Figure 3"
   ]
  },
  {
   "cell_type": "code",
   "execution_count": 3,
   "id": "17d63b67-1421-407d-8cf8-8573cbdaf20b",
   "metadata": {
    "tags": []
   },
   "outputs": [],
   "source": [
    "pars={\"corr_fc\":\n",
    "     { \"min_dist\":400, \n",
    "      \"radius_list\": [5,10,15,25,50,100,150,200], \n",
    "      \"save_full_at\":[5,50,100,200],\n",
    "      \"dec_factor\":20}\n",
    "     } "
   ]
  },
  {
   "cell_type": "code",
   "execution_count": 4,
   "id": "681df569-dd30-4447-a5de-230e9268fe21",
   "metadata": {
    "tags": []
   },
   "outputs": [],
   "source": [
    "name=names[0] #Select Dataset \n",
    "coords,dff,traces=load_dset(name)\n",
    "dff_mu=(dff-np.nanmean(dff,0,keepdims=True))[~np.isnan(dff.sum(1))] # Centered Data without NANs ( motion)"
   ]
  },
  {
   "cell_type": "markdown",
   "id": "48e14566-a2e5-4ae6-a359-80cd3771b85f",
   "metadata": {},
   "source": [
    "Compute pairwise correlations, pairwise distances and pairwise correlations of macro-voxels"
   ]
  },
  {
   "cell_type": "code",
   "execution_count": 5,
   "id": "98284e3e-cd7d-4970-a152-a5bfccf8bdf6",
   "metadata": {
    "tags": []
   },
   "outputs": [
    {
     "name": "stderr",
     "output_type": "stream",
     "text": [
      "/home/hoffmmax/repos/hoffmann_et_al_2023/src/wholebrain/util.py:92: RuntimeWarning: invalid value encountered in divide\n",
      "  ipsi_cc = np.sum((cc * mask_ipsi), axis=axis) / np.sum(mask_ipsi, axis=axis)\n",
      "/home/hoffmmax/repos/hoffmann_et_al_2023/src/wholebrain/util.py:93: RuntimeWarning: invalid value encountered in divide\n",
      "  contra_cc = np.sum((cc * mask_contra), axis=axis) / np.sum(mask_contra, axis=axis)\n",
      "100%|████████████████████████████████████████████████████████████| 8/8 [01:07<00:00,  8.39s/it]\n"
     ]
    }
   ],
   "source": [
    "\n",
    "fh5_l = h5.File(os.path.join(p_out, f\"{name}_correlations.h5\"), \"w\")\n",
    "cc = stats.corrx(cp.array(dff_mu,'single'), cp.array(dff_mu,'single'))\n",
    "pd = spatial.pdist(cp.array(coords,'single'), None)\n",
    "fh5_l[\"ipsi_cc\"], fh5_l[\"contra_cc\"] = util.neighbourhood_correlation(\n",
    "    coords, cc.get())\n",
    "fh5_l[\"cc\"] = cc.get()\n",
    "fh5_l[\"pd\"] = pd.get()\n",
    "del cc,pd\n",
    "\n",
    " \n",
    "fh5_l[\"fc_before\"], fh5_l[\"fc_corr_mean\"], fh5_l[\"fc_after\"] = util.corr_fc( fh5_l[\"cc\"][:], fh5_l[\"pd\"][:], cp.array(dff_mu,'single'), **pars[\"corr_fc\"])\n",
    "fh5_l.close()\n"
   ]
  },
  {
   "cell_type": "markdown",
   "id": "0dbf015b-af87-48fe-8349-1b7b5de29b3e",
   "metadata": {},
   "source": [
    "Load data and compute histrogram values"
   ]
  },
  {
   "cell_type": "code",
   "execution_count": 6,
   "id": "3d4dde95-0ed4-495a-b1a4-49336a6460c4",
   "metadata": {
    "tags": []
   },
   "outputs": [
    {
     "name": "stderr",
     "output_type": "stream",
     "text": [
      "100%|███████████████████████████████████████████████████████| 197/197 [00:00<00:00, 244.46it/s]"
     ]
    },
    {
     "name": "stdout",
     "output_type": "stream",
     "text": [
      "<KeysViewHDF5 ['cc', 'contra_cc', 'fc_after', 'fc_before', 'fc_corr_mean', 'ipsi_cc', 'pd']>\n"
     ]
    },
    {
     "name": "stderr",
     "output_type": "stream",
     "text": [
      "\n"
     ]
    }
   ],
   "source": [
    "n_step=50\n",
    "dist_bins = np.r_[10:1000:5]\n",
    "binstats_list=[]\n",
    "\n",
    "with h5.File(os.path.join(p_out, f\"{name}_correlations.h5\"),'r') as fh5:\n",
    "    cc=fh5['cc'][:]\n",
    "    pd=fh5['pd'][:]\n",
    "    contra_cc=fh5['contra_cc'][:]\n",
    "    ipsi_cc=fh5['ipsi_cc'][:]\n",
    "    binstats = util.apply_to_bins(pd.ravel()[::n_step], dist_bins, cc.ravel()[::n_step], binfcn)\n",
    "    binstats_list.append(binstats)\n",
    "    print(fh5.keys())"
   ]
  },
  {
   "cell_type": "markdown",
   "id": "2eb6be8b-2cfa-4aca-8a98-b323f3481b4a",
   "metadata": {},
   "source": [
    "### Figure 3a"
   ]
  },
  {
   "cell_type": "code",
   "execution_count": 7,
   "id": "ebf9047f-1bfb-4a50-a251-4ddc6117fc6e",
   "metadata": {
    "tags": []
   },
   "outputs": [
    {
     "data": {
      "image/png": "[encoded data removed]",
      "text/plain": [
       "<Figure size 640x480 with 1 Axes>"
      ]
     },
     "metadata": {},
     "output_type": "display_data"
    }
   ],
   "source": [
    "fig, ax = plt.subplots()\n",
    "bin_ar=np.array(binstats_list)[:,:,0]\n",
    "for ii,binstats in enumerate(binstats_list):\n",
    "        xx=dist_bins[: - 1]\n",
    "        yy=binstats[:, 0]\n",
    "        powlaw= lambda x,a,k: a*xx**(k)\n",
    "        mse= lambda a: np.sum((powlaw(xx,a[0],a[1])-yy)**2)\n",
    "        a=minimize(mse,[yy.max(),-1])\n",
    "        ax.plot(xx, yy, label=names[ii],c='k',lw=1,alpha=0.2)\n",
    "        ax.plot(xx, powlaw(xx,*a.x).squeeze(),'--',c='r',lw=0.5,label='fit',alpha=0.2)\n",
    " \n",
    "powlaw= lambda x,a,k: a*xx**(k)\n",
    "yy=bin_ar.mean(0)\n",
    "ax.plot(xx,yy,c='k') \n",
    "mse= lambda a: np.sum((powlaw(xx,a[0],a[1])-yy)**2)\n",
    "a=minimize(mse,[yy.max(),-1])\n",
    "ax.plot(xx, powlaw(xx,*a.x).squeeze(),'--',c='r',lw=1,label='fit')\n",
    "\n",
    "    #ax.fill_between(dist_bins[1: - 1], binstats[1:, 1], binstats[1:, 2], label='5%-95%')\n",
    "ax.set_ylim(0.01, 0.8)\n",
    "#ax.set_xlim(None, 1500)\n",
    "#ax.set_xticks((0,0.1,0.2,0.4))\n",
    "ax.set_xscale('log')\n",
    "ax.set_yscale('log')\n",
    "ax.set_xlabel('Distance (µm)')\n",
    "ax.set_ylabel(\"Pearson's r\")\n",
    "plt.tight_layout()\n"
   ]
  },
  {
   "cell_type": "markdown",
   "id": "9daef956-f909-40b4-938d-d585a0ec0714",
   "metadata": {},
   "source": [
    "### Figure 3e"
   ]
  },
  {
   "cell_type": "code",
   "execution_count": 8,
   "id": "70dba575-00c4-4aa1-abec-1a5e0fac7852",
   "metadata": {
    "tags": []
   },
   "outputs": [
    {
     "name": "stderr",
     "output_type": "stream",
     "text": [
      "100%|████████████████████████████████████████████████████████████| 4/4 [00:51<00:00, 12.80s/it]\n"
     ]
    },
    {
     "data": {
      "image/png": "[encoded data removed]",
      "text/plain": [
       "<Figure size 2000x2000 with 4 Axes>"
      ]
     },
     "metadata": {},
     "output_type": "display_data"
    }
   ],
   "source": [
    "fig,axi=plt.subplots(1,4,figsize=[20,20])\n",
    "with h5.File(os.path.join(p_out, f\"{name}_correlations.h5\"),'r') as fh5:\n",
    "    for ii, s in enumerate(tqdm(pars['corr_fc']['save_full_at'])):\n",
    "        x=fh5['fc_after'][ii]\n",
    "        y=fh5['fc_before']\n",
    "        r = pearsonr(x[~np.isnan(x)],y[~np.isnan(x)])\n",
    "        axi[ii].hist2d(y, x,  bins=np.linspace(-.75,.75,200), cmap='Greys',rasterized=True);\n",
    "        axi[ii].set_aspect('equal', 'box')\n",
    "        ix=pars['corr_fc']['radius_list'].index(s)\n",
    "        r_lbl=fh5['fc_corr_mean'][ix,0]\n",
    "        axi[ii].set_title(f'voxel radius {s} µm, r: {r_lbl:.2f}')\n"
   ]
  },
  {
   "cell_type": "markdown",
   "id": "26fca0c7-61ac-473a-a171-870647bb3f6e",
   "metadata": {
    "tags": []
   },
   "source": [
    "### Figure 3f"
   ]
  },
  {
   "cell_type": "code",
   "execution_count": 9,
   "id": "5d613040-16be-45f6-850a-8aac72728b68",
   "metadata": {
    "tags": []
   },
   "outputs": [
    {
     "data": {
      "image/png": "[encoded data removed]",
      "text/plain": [
       "<Figure size 640x480 with 1 Axes>"
      ]
     },
     "metadata": {},
     "output_type": "display_data"
    }
   ],
   "source": [
    "fig,ax=plt.subplots()\n",
    "fc_l=[]\n",
    "\n",
    "\n",
    "\n",
    "with h5.File(os.path.join(p_out, f\"{name}_correlations.h5\"),'r') as fh5:\n",
    "        _=ax.plot(pars[\"corr_fc\"][\"radius_list\"],fh5['fc_corr_mean'],label=name,c='k',alpha=0.2)\n",
    "        fc_l.append(fh5['fc_corr_mean'][:])\n",
    "ax.plot(pars['corr_fc']['radius_list'],np.array(fc_l).mean(0),'k',ls='-')\n",
    "_=ax.set(xlim=(0,None), ylim=(0,1.1), xlabel='voxel radius (µm)', ylabel='Pearson r')\n",
    "plt.tight_layout()\n"
   ]
  },
  {
   "cell_type": "markdown",
   "id": "1c2ad68a-5d46-4061-9215-fe3d8459952b",
   "metadata": {
    "tags": []
   },
   "source": [
    "## Figure 4"
   ]
  },
  {
   "cell_type": "code",
   "execution_count": 10,
   "id": "d8d827a2-c61f-442b-b341-0b6b124d843b",
   "metadata": {},
   "outputs": [],
   "source": [
    "n_repeats=3\n",
    "alpha_repeats=3\n",
    "\n",
    "pars={\"global\": {\"stripe_period\":300,\n",
    "                 \"val_fraction\":0.2,\n",
    "                 \"test_fraction\":0.2,\n",
    "                 \"target_fraction\":0.1,\n",
    "                 \"alphas\":np.geomspace(1,10000,20).tolist(),\n",
    "                \"alpha_repeats\":alpha_repeats\n",
    "             },\n",
    " \"pca_reg\": \n",
    " { \"dims_list\":np.geomspace(1, 1500, 200).tolist(),\"n_repeats\":n_repeats},\n",
    " \"random_predictors\": \n",
    " { \"n_pred_list\": [100,200,400,1000,2000,5000,10000,20000],\"n_repeats\":n_repeats},\n",
    " \"voxelate\":\n",
    " {\"s_bins_dim\": [5,10,25,50,100,150,200,500],\"n_pred_list\": [100,200,400,1000,2000,5000,10000,20000],\"n_repeats\":n_repeats},\n",
    "\"r2_scan\":{\"s_bins\":[5,10,25,50,100,150,200,500],\"n_pred_list\": [100,200,400,1000,2000,5000,10000,20000],\"alphas\":np.geomspace(1,10000,20).tolist(),\"n_repeats\":n_repeats},\n",
    "     }"
   ]
  },
  {
   "cell_type": "code",
   "execution_count": 11,
   "id": "99aa7ceb-791c-42c6-a7c0-4f76e02b8a4d",
   "metadata": {},
   "outputs": [],
   "source": [
    "coords,dff,traces=load_dset(names[0]) #Choose dataset\n",
    "dff_mu=(dff-np.nanmean(dff,0,keepdims=True))[~np.isnan(dff.sum(1)),:] # Centered Data without NANs ( motion)"
   ]
  },
  {
   "cell_type": "code",
   "execution_count": 12,
   "id": "75752f48-cccc-4fb3-8a2a-a11a46aec4b1",
   "metadata": {},
   "outputs": [],
   "source": [
    "cv_train,cv_val,cv_test=util.create_crossvalidation_mask(dff_mu)\n",
    "n_targets = int(dff_mu.shape[1] * pars[\"global\"][\"target_fraction\"])\n",
    "max_npred=(1-pars['global']['target_fraction'])*dff_mu.shape[1]"
   ]
  },
  {
   "cell_type": "markdown",
   "id": "9620a234-17c6-4f7d-ab57-b11a7de1d13b",
   "metadata": {},
   "source": [
    "### Figure 4b,c"
   ]
  },
  {
   "cell_type": "markdown",
   "id": "ca0c58dd-b449-48a4-8e69-af3272874758",
   "metadata": {},
   "source": [
    "#### Bi-crossvalidated PCA"
   ]
  },
  {
   "cell_type": "code",
   "execution_count": 13,
   "id": "a48b9f3a-ff39-4908-933f-5b199016560a",
   "metadata": {},
   "outputs": [
    {
     "name": "stderr",
     "output_type": "stream",
     "text": [
      "100%|████████████████████████████████████████████████████████████| 3/3 [00:06<00:00,  2.00s/it]\n"
     ]
    }
   ],
   "source": [
    "r2_bcvpca = util.pca_run(dff_mu, cv_test + cv_train,pars[\"pca_reg\"][\"dims_list\"],n_targets=n_targets, n_repeats=pars[\"pca_reg\"][\"n_repeats\"],)\n"
   ]
  },
  {
   "cell_type": "markdown",
   "id": "dfa72aba-6fee-4cd4-9920-63eb29aec853",
   "metadata": {},
   "source": [
    "#### Determination of regularization parameter for ridge regression"
   ]
  },
  {
   "cell_type": "code",
   "execution_count": 14,
   "id": "a01f055c-fe6c-40a7-bff4-41c5d30bfcde",
   "metadata": {},
   "outputs": [
    {
     "name": "stdout",
     "output_type": "stream",
     "text": [
      "Alpha Scan for regression\n"
     ]
    },
    {
     "name": "stderr",
     "output_type": "stream",
     "text": [
      "  0%|                                                                    | 0/3 [00:00<?, ?it/s]\n",
      "  0%|                                                                    | 0/1 [00:00<?, ?it/s]\u001b[A\n",
      "100%|████████████████████████████████████████████████████████████| 1/1 [00:00<00:00,  2.45it/s]\u001b[A\n",
      " 33%|████████████████████                                        | 1/3 [00:00<00:01,  1.70it/s]\u001b[A\n",
      "  0%|                                                                    | 0/1 [00:00<?, ?it/s]\u001b[A\n",
      "100%|████████████████████████████████████████████████████████████| 1/1 [00:00<00:00,  3.51it/s]\u001b[A\n",
      " 67%|████████████████████████████████████████                    | 2/3 [00:01<00:00,  1.89it/s]\u001b[A\n",
      "  0%|                                                                    | 0/1 [00:00<?, ?it/s]\u001b[A\n",
      "100%|████████████████████████████████████████████████████████████| 1/1 [00:00<00:00,  3.58it/s]\u001b[A\n",
      "100%|████████████████████████████████████████████████████████████| 3/3 [00:01<00:00,  1.92it/s]\u001b[A\n",
      "  0%|                                                                    | 0/3 [00:00<?, ?it/s]\n",
      "  0%|                                                                    | 0/1 [00:00<?, ?it/s]\u001b[A\n",
      "100%|████████████████████████████████████████████████████████████| 1/1 [00:00<00:00,  3.48it/s]\u001b[A\n",
      " 33%|████████████████████                                        | 1/3 [00:00<00:00,  2.02it/s]\u001b[A\n",
      "  0%|                                                                    | 0/1 [00:00<?, ?it/s]\u001b[A\n",
      "100%|████████████████████████████████████████████████████████████| 1/1 [00:00<00:00,  3.52it/s]\u001b[A\n",
      " 67%|████████████████████████████████████████                    | 2/3 [00:00<00:00,  2.01it/s]\u001b[A\n",
      "  0%|                                                                    | 0/1 [00:00<?, ?it/s]\u001b[A\n",
      "100%|████████████████████████████████████████████████████████████| 1/1 [00:00<00:00,  3.49it/s]\u001b[A\n",
      "100%|████████████████████████████████████████████████████████████| 3/3 [00:01<00:00,  2.01it/s]\u001b[A\n",
      "  0%|                                                                    | 0/3 [00:00<?, ?it/s]\n",
      "  0%|                                                                    | 0/1 [00:00<?, ?it/s]\u001b[A\n",
      "100%|████████████████████████████████████████████████████████████| 1/1 [00:00<00:00,  3.58it/s]\u001b[A\n",
      " 33%|████████████████████                                        | 1/3 [00:00<00:00,  2.08it/s]\u001b[A\n",
      "  0%|                                                                    | 0/1 [00:00<?, ?it/s]\u001b[A\n",
      "100%|████████████████████████████████████████████████████████████| 1/1 [00:00<00:00,  3.27it/s]\u001b[A\n",
      " 67%|████████████████████████████████████████                    | 2/3 [00:00<00:00,  1.99it/s]\u001b[A\n",
      "  0%|                                                                    | 0/1 [00:00<?, ?it/s]\u001b[A\n",
      "100%|████████████████████████████████████████████████████████████| 1/1 [00:00<00:00,  3.36it/s]\u001b[A\n",
      "100%|████████████████████████████████████████████████████████████| 3/3 [00:01<00:00,  2.00it/s]\u001b[A\n",
      "  0%|                                                                    | 0/3 [00:00<?, ?it/s]\n",
      "  0%|                                                                    | 0/1 [00:00<?, ?it/s]\u001b[A\n",
      "100%|████████████████████████████████████████████████████████████| 1/1 [00:00<00:00,  3.45it/s]\u001b[A\n",
      " 33%|████████████████████                                        | 1/3 [00:00<00:00,  2.03it/s]\u001b[A\n",
      "  0%|                                                                    | 0/1 [00:00<?, ?it/s]\u001b[A\n",
      "100%|████████████████████████████████████████████████████████████| 1/1 [00:00<00:00,  3.53it/s]\u001b[A\n",
      " 67%|████████████████████████████████████████                    | 2/3 [00:00<00:00,  2.02it/s]\u001b[A\n",
      "  0%|                                                                    | 0/1 [00:00<?, ?it/s]\u001b[A\n",
      "100%|████████████████████████████████████████████████████████████| 1/1 [00:00<00:00,  3.58it/s]\u001b[A\n",
      "100%|████████████████████████████████████████████████████████████| 3/3 [00:01<00:00,  2.01it/s]\u001b[A\n",
      "  0%|                                                                    | 0/3 [00:00<?, ?it/s]\n",
      "  0%|                                                                    | 0/1 [00:00<?, ?it/s]\u001b[A\n",
      "100%|████████████████████████████████████████████████████████████| 1/1 [00:00<00:00,  3.27it/s]\u001b[A\n",
      " 33%|████████████████████                                        | 1/3 [00:00<00:01,  1.97it/s]\u001b[A\n",
      "  0%|                                                                    | 0/1 [00:00<?, ?it/s]\u001b[A\n",
      "100%|████████████████████████████████████████████████████████████| 1/1 [00:00<00:00,  3.03it/s]\u001b[A\n",
      " 67%|████████████████████████████████████████                    | 2/3 [00:01<00:00,  1.89it/s]\u001b[A\n",
      "  0%|                                                                    | 0/1 [00:00<?, ?it/s]\u001b[A\n",
      "100%|████████████████████████████████████████████████████████████| 1/1 [00:00<00:00,  3.43it/s]\u001b[A\n",
      "100%|████████████████████████████████████████████████████████████| 3/3 [00:01<00:00,  1.93it/s]\u001b[A\n",
      "  0%|                                                                    | 0/3 [00:00<?, ?it/s]\n",
      "  0%|                                                                    | 0/1 [00:00<?, ?it/s]\u001b[A\n",
      "100%|████████████████████████████████████████████████████████████| 1/1 [00:00<00:00,  3.56it/s]\u001b[A\n",
      " 33%|████████████████████                                        | 1/3 [00:00<00:01,  1.99it/s]\u001b[A\n",
      "  0%|                                                                    | 0/1 [00:00<?, ?it/s]\u001b[A\n",
      "100%|████████████████████████████████████████████████████████████| 1/1 [00:00<00:00,  3.55it/s]\u001b[A\n",
      " 67%|████████████████████████████████████████                    | 2/3 [00:00<00:00,  2.03it/s]\u001b[A\n",
      "  0%|                                                                    | 0/1 [00:00<?, ?it/s]\u001b[A\n",
      "100%|████████████████████████████████████████████████████████████| 1/1 [00:00<00:00,  3.54it/s]\u001b[A\n",
      "100%|████████████████████████████████████████████████████████████| 3/3 [00:01<00:00,  2.01it/s]\u001b[A\n",
      "  0%|                                                                    | 0/3 [00:00<?, ?it/s]\n",
      "  0%|                                                                    | 0/1 [00:00<?, ?it/s]\u001b[A\n",
      "100%|████████████████████████████████████████████████████████████| 1/1 [00:00<00:00,  3.50it/s]\u001b[A\n",
      " 33%|████████████████████                                        | 1/3 [00:00<00:00,  2.04it/s]\u001b[A\n",
      "  0%|                                                                    | 0/1 [00:00<?, ?it/s]\u001b[A\n",
      "100%|████████████████████████████████████████████████████████████| 1/1 [00:00<00:00,  3.50it/s]\u001b[A\n",
      " 67%|████████████████████████████████████████                    | 2/3 [00:00<00:00,  2.04it/s]\u001b[A\n",
      "  0%|                                                                    | 0/1 [00:00<?, ?it/s]\u001b[A\n",
      "100%|████████████████████████████████████████████████████████████| 1/1 [00:00<00:00,  3.47it/s]\u001b[A\n",
      "100%|████████████████████████████████████████████████████████████| 3/3 [00:01<00:00,  2.03it/s]\u001b[A\n",
      "  0%|                                                                    | 0/3 [00:00<?, ?it/s]\n",
      "  0%|                                                                    | 0/1 [00:00<?, ?it/s]\u001b[A\n",
      "100%|████████████████████████████████████████████████████████████| 1/1 [00:00<00:00,  3.56it/s]\u001b[A\n",
      " 33%|████████████████████                                        | 1/3 [00:00<00:00,  2.07it/s]\u001b[A\n",
      "  0%|                                                                    | 0/1 [00:00<?, ?it/s]\u001b[A\n",
      "100%|████████████████████████████████████████████████████████████| 1/1 [00:00<00:00,  3.52it/s]\u001b[A\n",
      " 67%|████████████████████████████████████████                    | 2/3 [00:00<00:00,  2.06it/s]\u001b[A\n",
      "  0%|                                                                    | 0/1 [00:00<?, ?it/s]\u001b[A\n",
      "100%|████████████████████████████████████████████████████████████| 1/1 [00:00<00:00,  3.45it/s]\u001b[A\n",
      "100%|████████████████████████████████████████████████████████████| 3/3 [00:01<00:00,  2.04it/s]\u001b[A\n",
      "  0%|                                                                    | 0/3 [00:00<?, ?it/s]\n",
      "  0%|                                                                    | 0/1 [00:00<?, ?it/s]\u001b[A\n",
      "100%|████████████████████████████████████████████████████████████| 1/1 [00:00<00:00,  3.48it/s]\u001b[A\n",
      " 33%|████████████████████                                        | 1/3 [00:00<00:00,  2.04it/s]\u001b[A\n",
      "  0%|                                                                    | 0/1 [00:00<?, ?it/s]\u001b[A\n",
      "100%|████████████████████████████████████████████████████████████| 1/1 [00:00<00:00,  3.56it/s]\u001b[A\n",
      " 67%|████████████████████████████████████████                    | 2/3 [00:00<00:00,  2.02it/s]\u001b[A\n",
      "  0%|                                                                    | 0/1 [00:00<?, ?it/s]\u001b[A\n",
      "100%|████████████████████████████████████████████████████████████| 1/1 [00:00<00:00,  3.56it/s]\u001b[A\n",
      "100%|████████████████████████████████████████████████████████████| 3/3 [00:01<00:00,  2.03it/s]\u001b[A\n",
      "  0%|                                                                    | 0/3 [00:00<?, ?it/s]\n",
      "  0%|                                                                    | 0/1 [00:00<?, ?it/s]\u001b[A\n",
      "100%|████████████████████████████████████████████████████████████| 1/1 [00:00<00:00,  3.53it/s]\u001b[A\n",
      " 33%|████████████████████                                        | 1/3 [00:00<00:00,  2.06it/s]\u001b[A\n",
      "  0%|                                                                    | 0/1 [00:00<?, ?it/s]\u001b[A\n",
      "100%|████████████████████████████████████████████████████████████| 1/1 [00:00<00:00,  3.51it/s]\u001b[A\n",
      " 67%|████████████████████████████████████████                    | 2/3 [00:00<00:00,  2.05it/s]\u001b[A\n",
      "  0%|                                                                    | 0/1 [00:00<?, ?it/s]\u001b[A\n",
      "100%|████████████████████████████████████████████████████████████| 1/1 [00:00<00:00,  3.51it/s]\u001b[A\n",
      "100%|████████████████████████████████████████████████████████████| 3/3 [00:01<00:00,  2.05it/s]\u001b[A\n",
      "  0%|                                                                    | 0/3 [00:00<?, ?it/s]\n",
      "  0%|                                                                    | 0/1 [00:00<?, ?it/s]\u001b[A\n",
      "100%|████████████████████████████████████████████████████████████| 1/1 [00:00<00:00,  3.51it/s]\u001b[A\n",
      " 33%|████████████████████                                        | 1/3 [00:00<00:00,  2.05it/s]\u001b[A\n",
      "  0%|                                                                    | 0/1 [00:00<?, ?it/s]\u001b[A\n",
      "100%|████████████████████████████████████████████████████████████| 1/1 [00:00<00:00,  3.55it/s]\u001b[A\n",
      " 67%|████████████████████████████████████████                    | 2/3 [00:00<00:00,  2.06it/s]\u001b[A\n",
      "  0%|                                                                    | 0/1 [00:00<?, ?it/s]\u001b[A\n",
      "100%|████████████████████████████████████████████████████████████| 1/1 [00:00<00:00,  3.55it/s]\u001b[A\n",
      "100%|████████████████████████████████████████████████████████████| 3/3 [00:01<00:00,  2.05it/s]\u001b[A\n",
      "  0%|                                                                    | 0/3 [00:00<?, ?it/s]\n",
      "  0%|                                                                    | 0/1 [00:00<?, ?it/s]\u001b[A\n",
      "100%|████████████████████████████████████████████████████████████| 1/1 [00:00<00:00,  3.59it/s]\u001b[A\n",
      " 33%|████████████████████                                        | 1/3 [00:00<00:00,  2.08it/s]\u001b[A\n",
      "  0%|                                                                    | 0/1 [00:00<?, ?it/s]\u001b[A\n",
      "100%|████████████████████████████████████████████████████████████| 1/1 [00:00<00:00,  3.53it/s]\u001b[A\n",
      " 67%|████████████████████████████████████████                    | 2/3 [00:00<00:00,  2.07it/s]\u001b[A\n",
      "  0%|                                                                    | 0/1 [00:00<?, ?it/s]\u001b[A\n",
      "100%|████████████████████████████████████████████████████████████| 1/1 [00:00<00:00,  3.44it/s]\u001b[A\n",
      "100%|████████████████████████████████████████████████████████████| 3/3 [00:01<00:00,  2.05it/s]\u001b[A\n",
      "  0%|                                                                    | 0/3 [00:00<?, ?it/s]\n",
      "  0%|                                                                    | 0/1 [00:00<?, ?it/s]\u001b[A\n",
      "100%|████████████████████████████████████████████████████████████| 1/1 [00:00<00:00,  3.58it/s]\u001b[A\n",
      " 33%|████████████████████                                        | 1/3 [00:00<00:00,  2.07it/s]\u001b[A\n",
      "  0%|                                                                    | 0/1 [00:00<?, ?it/s]\u001b[A\n",
      "100%|████████████████████████████████████████████████████████████| 1/1 [00:00<00:00,  3.57it/s]\u001b[A\n",
      " 67%|████████████████████████████████████████                    | 2/3 [00:00<00:00,  2.07it/s]\u001b[A\n",
      "  0%|                                                                    | 0/1 [00:00<?, ?it/s]\u001b[A\n",
      "100%|████████████████████████████████████████████████████████████| 1/1 [00:00<00:00,  3.30it/s]\u001b[A\n",
      "100%|████████████████████████████████████████████████████████████| 3/3 [00:01<00:00,  2.03it/s]\u001b[A\n",
      "  0%|                                                                    | 0/3 [00:00<?, ?it/s]\n",
      "  0%|                                                                    | 0/1 [00:00<?, ?it/s]\u001b[A\n",
      "100%|████████████████████████████████████████████████████████████| 1/1 [00:00<00:00,  3.41it/s]\u001b[A\n",
      " 33%|████████████████████                                        | 1/3 [00:00<00:00,  2.02it/s]\u001b[A\n",
      "  0%|                                                                    | 0/1 [00:00<?, ?it/s]\u001b[A\n",
      "100%|████████████████████████████████████████████████████████████| 1/1 [00:00<00:00,  3.54it/s]\u001b[A\n",
      " 67%|████████████████████████████████████████                    | 2/3 [00:00<00:00,  2.04it/s]\u001b[A\n",
      "  0%|                                                                    | 0/1 [00:00<?, ?it/s]\u001b[A\n",
      "100%|████████████████████████████████████████████████████████████| 1/1 [00:00<00:00,  3.55it/s]\u001b[A\n",
      "100%|████████████████████████████████████████████████████████████| 3/3 [00:01<00:00,  2.03it/s]\u001b[A\n",
      "  0%|                                                                    | 0/3 [00:00<?, ?it/s]\n",
      "  0%|                                                                    | 0/1 [00:00<?, ?it/s]\u001b[A\n",
      "100%|████████████████████████████████████████████████████████████| 1/1 [00:00<00:00,  3.58it/s]\u001b[A\n",
      " 33%|████████████████████                                        | 1/3 [00:00<00:01,  1.97it/s]\u001b[A\n",
      "  0%|                                                                    | 0/1 [00:00<?, ?it/s]\u001b[A\n",
      "100%|████████████████████████████████████████████████████████████| 1/1 [00:00<00:00,  3.08it/s]\u001b[A\n",
      " 67%|████████████████████████████████████████                    | 2/3 [00:01<00:00,  1.92it/s]\u001b[A\n",
      "  0%|                                                                    | 0/1 [00:00<?, ?it/s]\u001b[A\n",
      "100%|████████████████████████████████████████████████████████████| 1/1 [00:00<00:00,  2.91it/s]\u001b[A\n",
      "100%|████████████████████████████████████████████████████████████| 3/3 [00:01<00:00,  1.89it/s]\u001b[A\n",
      "  0%|                                                                    | 0/3 [00:00<?, ?it/s]\n",
      "  0%|                                                                    | 0/1 [00:00<?, ?it/s]\u001b[A\n",
      "100%|████████████████████████████████████████████████████████████| 1/1 [00:00<00:00,  3.40it/s]\u001b[A\n",
      " 33%|████████████████████                                        | 1/3 [00:00<00:01,  1.99it/s]\u001b[A\n",
      "  0%|                                                                    | 0/1 [00:00<?, ?it/s]\u001b[A\n",
      "100%|████████████████████████████████████████████████████████████| 1/1 [00:00<00:00,  3.52it/s]\u001b[A\n",
      " 67%|████████████████████████████████████████                    | 2/3 [00:00<00:00,  2.02it/s]\u001b[A\n",
      "  0%|                                                                    | 0/1 [00:00<?, ?it/s]\u001b[A\n",
      "100%|████████████████████████████████████████████████████████████| 1/1 [00:00<00:00,  3.59it/s]\u001b[A\n",
      "100%|████████████████████████████████████████████████████████████| 3/3 [00:01<00:00,  2.03it/s]\u001b[A\n",
      "  0%|                                                                    | 0/3 [00:00<?, ?it/s]\n",
      "  0%|                                                                    | 0/1 [00:00<?, ?it/s]\u001b[A\n",
      "100%|████████████████████████████████████████████████████████████| 1/1 [00:00<00:00,  3.56it/s]\u001b[A\n",
      " 33%|████████████████████                                        | 1/3 [00:00<00:00,  2.07it/s]\u001b[A\n",
      "  0%|                                                                    | 0/1 [00:00<?, ?it/s]\u001b[A\n",
      "100%|████████████████████████████████████████████████████████████| 1/1 [00:00<00:00,  3.57it/s]\u001b[A\n",
      " 67%|████████████████████████████████████████                    | 2/3 [00:00<00:00,  2.07it/s]\u001b[A\n",
      "  0%|                                                                    | 0/1 [00:00<?, ?it/s]\u001b[A\n",
      "100%|████████████████████████████████████████████████████████████| 1/1 [00:00<00:00,  3.42it/s]\u001b[A\n",
      "100%|████████████████████████████████████████████████████████████| 3/3 [00:01<00:00,  2.05it/s]\u001b[A\n",
      "  0%|                                                                    | 0/3 [00:00<?, ?it/s]\n",
      "  0%|                                                                    | 0/1 [00:00<?, ?it/s]\u001b[A\n",
      "100%|████████████████████████████████████████████████████████████| 1/1 [00:00<00:00,  3.46it/s]\u001b[A\n",
      " 33%|████████████████████                                        | 1/3 [00:00<00:00,  2.00it/s]\u001b[A\n",
      "  0%|                                                                    | 0/1 [00:00<?, ?it/s]\u001b[A\n",
      "100%|████████████████████████████████████████████████████████████| 1/1 [00:00<00:00,  3.57it/s]\u001b[A\n",
      " 67%|████████████████████████████████████████                    | 2/3 [00:00<00:00,  2.04it/s]\u001b[A\n",
      "  0%|                                                                    | 0/1 [00:00<?, ?it/s]\u001b[A\n",
      "100%|████████████████████████████████████████████████████████████| 1/1 [00:00<00:00,  3.55it/s]\u001b[A\n",
      "100%|████████████████████████████████████████████████████████████| 3/3 [00:01<00:00,  2.04it/s]\u001b[A\n",
      "  0%|                                                                    | 0/3 [00:00<?, ?it/s]\n",
      "  0%|                                                                    | 0/1 [00:00<?, ?it/s]\u001b[A\n",
      "100%|████████████████████████████████████████████████████████████| 1/1 [00:00<00:00,  3.58it/s]\u001b[A\n",
      " 33%|████████████████████                                        | 1/3 [00:00<00:00,  2.08it/s]\u001b[A\n",
      "  0%|                                                                    | 0/1 [00:00<?, ?it/s]\u001b[A\n",
      "100%|████████████████████████████████████████████████████████████| 1/1 [00:00<00:00,  3.60it/s]\u001b[A\n",
      " 67%|████████████████████████████████████████                    | 2/3 [00:00<00:00,  2.08it/s]\u001b[A\n",
      "  0%|                                                                    | 0/1 [00:00<?, ?it/s]\u001b[A\n",
      "100%|████████████████████████████████████████████████████████████| 1/1 [00:00<00:00,  3.53it/s]\u001b[A\n",
      "100%|████████████████████████████████████████████████████████████| 3/3 [00:01<00:00,  2.06it/s]\u001b[A\n",
      "  0%|                                                                    | 0/3 [00:00<?, ?it/s]\n",
      "  0%|                                                                    | 0/1 [00:00<?, ?it/s]\u001b[A\n",
      "100%|████████████████████████████████████████████████████████████| 1/1 [00:00<00:00,  3.34it/s]\u001b[A\n",
      " 33%|████████████████████                                        | 1/3 [00:00<00:01,  1.98it/s]\u001b[A\n",
      "  0%|                                                                    | 0/1 [00:00<?, ?it/s]\u001b[A\n",
      "100%|████████████████████████████████████████████████████████████| 1/1 [00:00<00:00,  3.55it/s]\u001b[A\n",
      " 67%|████████████████████████████████████████                    | 2/3 [00:00<00:00,  2.03it/s]\u001b[A\n",
      "  0%|                                                                    | 0/1 [00:00<?, ?it/s]\u001b[A\n",
      "100%|████████████████████████████████████████████████████████████| 1/1 [00:00<00:00,  3.57it/s]\u001b[A\n",
      "100%|████████████████████████████████████████████████████████████| 3/3 [00:01<00:00,  2.03it/s]\u001b[A\n"
     ]
    }
   ],
   "source": [
    "print(\"Alpha Scan for regression\")\n",
    "   \n",
    "alphas=pars[\"global\"][\"alphas\"]\n",
    "r2_l=[]\n",
    "s_bin=pars[\"voxelate\"][\"s_bins_dim\"]\n",
    "\n",
    "for alpha in alphas:\n",
    "        nnz, r2_voxelate = util.voxelate_regression(\n",
    "            [s_bin[len(s_bin)//2]],\n",
    "            dff_mu,\n",
    "            coords,\n",
    "            cv_test,\n",
    "            n_targets=n_targets,\n",
    "            n_repeats=pars[\"global\"][\"alpha_repeats\"],\n",
    "            alpha=alpha,\n",
    "        )\n",
    "        r2_l.append(r2_voxelate.mean()) \n",
    "        \n",
    "#Update global alpha parameter\n",
    "pars[\"global\"][\"alpha\"]=alphas[np.argmax(r2_l)]"
   ]
  },
  {
   "cell_type": "markdown",
   "id": "43753f34-76e6-4688-830d-1463965723d6",
   "metadata": {},
   "source": [
    "#### Voxelized regression with determined alpha parameter\n"
   ]
  },
  {
   "cell_type": "code",
   "execution_count": 15,
   "id": "7e345c89-f3b2-4be1-911e-78b4c4a7ff06",
   "metadata": {},
   "outputs": [
    {
     "name": "stderr",
     "output_type": "stream",
     "text": [
      "  0%|                                                                    | 0/3 [00:00<?, ?it/s]\n",
      "  0%|                                                                    | 0/8 [00:00<?, ?it/s]\u001b[A\n",
      " 12%|███████▌                                                    | 1/8 [00:06<00:44,  6.29s/it]\u001b[A\n",
      " 25%|███████████████                                             | 2/8 [00:12<00:37,  6.29s/it]\u001b[A\n",
      " 38%|██████████████████████▌                                     | 3/8 [00:15<00:23,  4.75s/it]\u001b[A/home/hoffmmax/repos/hoffmann_et_al_2023/src/wholebrain/regression.py:85: RuntimeWarning: invalid value encountered in matmul\n",
      "  XtXa = (X.T @ X) + xp.eye(X.shape[1]) * alpha\n",
      "\n",
      " 50%|██████████████████████████████                              | 4/8 [00:16<00:13,  3.33s/it]\u001b[A\n",
      " 62%|█████████████████████████████████████▌                      | 5/8 [00:16<00:06,  2.23s/it]\u001b[A\n",
      " 75%|█████████████████████████████████████████████               | 6/8 [00:17<00:03,  1.57s/it]\u001b[A\n",
      " 88%|████████████████████████████████████████████████████▌       | 7/8 [00:17<00:01,  1.14s/it]\u001b[A\n",
      "100%|████████████████████████████████████████████████████████████| 8/8 [00:17<00:00,  1.16it/s]\u001b[A\n",
      " 33%|████████████████████                                        | 1/3 [00:17<00:35, 17.94s/it]\u001b[A\n",
      "  0%|                                                                    | 0/8 [00:00<?, ?it/s]\u001b[A\n",
      " 12%|███████▌                                                    | 1/8 [00:06<00:44,  6.29s/it]\u001b[A\n",
      " 25%|███████████████                                             | 2/8 [00:12<00:36,  6.06s/it]\u001b[A\n",
      " 38%|██████████████████████▌                                     | 3/8 [00:15<00:23,  4.63s/it]\u001b[A\n",
      " 50%|██████████████████████████████                              | 4/8 [00:16<00:12,  3.24s/it]\u001b[A\n",
      " 62%|█████████████████████████████████████▌                      | 5/8 [00:16<00:06,  2.17s/it]\u001b[A\n",
      " 75%|█████████████████████████████████████████████               | 6/8 [00:16<00:03,  1.52s/it]\u001b[A\n",
      " 88%|████████████████████████████████████████████████████▌       | 7/8 [00:17<00:01,  1.12s/it]\u001b[A\n",
      "100%|████████████████████████████████████████████████████████████| 8/8 [00:17<00:00,  1.19it/s]\u001b[A\n",
      " 67%|████████████████████████████████████████                    | 2/3 [00:35<00:17, 17.69s/it]\u001b[A\n",
      "  0%|                                                                    | 0/8 [00:00<?, ?it/s]\u001b[A\n",
      " 12%|███████▌                                                    | 1/8 [00:06<00:44,  6.33s/it]\u001b[A\n",
      " 25%|███████████████                                             | 2/8 [00:12<00:36,  6.06s/it]\u001b[A\n",
      " 38%|██████████████████████▌                                     | 3/8 [00:15<00:23,  4.62s/it]\u001b[A\n",
      " 50%|██████████████████████████████                              | 4/8 [00:16<00:12,  3.25s/it]\u001b[A\n",
      " 62%|█████████████████████████████████████▌                      | 5/8 [00:16<00:06,  2.18s/it]\u001b[A\n",
      " 75%|█████████████████████████████████████████████               | 6/8 [00:16<00:03,  1.53s/it]\u001b[A\n",
      " 88%|████████████████████████████████████████████████████▌       | 7/8 [00:17<00:01,  1.12s/it]\u001b[A\n",
      "100%|████████████████████████████████████████████████████████████| 8/8 [00:17<00:00,  1.19it/s]\u001b[A\n",
      "100%|████████████████████████████████████████████████████████████| 3/3 [00:52<00:00, 17.66s/it]\u001b[A\n"
     ]
    }
   ],
   "source": [
    "nnz, r2_voxelate = util.voxelate_regression(\n",
    "    pars[\"voxelate\"][\"s_bins_dim\"],\n",
    "    dff_mu,\n",
    "    coords,\n",
    "    cv_test + cv_train,\n",
    "    n_targets=n_targets,\n",
    "    n_repeats=pars[\"voxelate\"][\"n_repeats\"],\n",
    "    alpha=pars[\"global\"][\"alpha\"],\n",
    ")\n",
    "       \n"
   ]
  },
  {
   "cell_type": "markdown",
   "id": "9f2e7168-1d47-4d19-809b-b7af547d7478",
   "metadata": {},
   "source": [
    "#### Random predictors with determined alpha parameter"
   ]
  },
  {
   "cell_type": "code",
   "execution_count": 16,
   "id": "1585cfd0-85bf-4137-b32e-96b7dfaa3c46",
   "metadata": {},
   "outputs": [
    {
     "name": "stderr",
     "output_type": "stream",
     "text": [
      "  0%|                                                                    | 0/3 [00:00<?, ?it/s]\n",
      "  0%|                                                                    | 0/8 [00:00<?, ?it/s]\u001b[A\n",
      " 25%|███████████████                                             | 2/8 [00:00<00:00, 15.30it/s]\u001b[A\n",
      " 50%|██████████████████████████████                              | 4/8 [00:00<00:00, 10.70it/s]\u001b[A\n",
      " 75%|█████████████████████████████████████████████               | 6/8 [00:02<00:01,  1.75it/s]\u001b[A\n",
      " 88%|████████████████████████████████████████████████████▌       | 7/8 [00:04<00:00,  1.15it/s]\u001b[A\n",
      "100%|████████████████████████████████████████████████████████████| 8/8 [00:07<00:00,  1.52s/it]\u001b[A\n",
      " 33%|████████████████████                                        | 1/3 [00:07<00:15,  7.80s/it]\u001b[A\n",
      "  0%|                                                                    | 0/8 [00:00<?, ?it/s]\u001b[A\n",
      " 25%|███████████████                                             | 2/8 [00:00<00:00, 14.67it/s]\u001b[A\n",
      " 50%|██████████████████████████████                              | 4/8 [00:00<00:00, 10.11it/s]\u001b[A\n",
      " 75%|█████████████████████████████████████████████               | 6/8 [00:02<00:01,  1.74it/s]\u001b[A\n",
      " 88%|████████████████████████████████████████████████████▌       | 7/8 [00:04<00:00,  1.12it/s]\u001b[A\n",
      "100%|████████████████████████████████████████████████████████████| 8/8 [00:08<00:00,  1.58s/it]\u001b[A\n",
      " 67%|████████████████████████████████████████                    | 2/3 [00:15<00:07,  7.96s/it]\u001b[A\n",
      "  0%|                                                                    | 0/8 [00:00<?, ?it/s]\u001b[A\n",
      " 12%|███████▌                                                    | 1/8 [00:00<00:00,  9.30it/s]\u001b[A\n",
      " 38%|██████████████████████▌                                     | 3/8 [00:00<00:00, 12.38it/s]\u001b[A\n",
      " 62%|█████████████████████████████████████▌                      | 5/8 [00:00<00:00,  5.65it/s]\u001b[A\n",
      " 75%|█████████████████████████████████████████████               | 6/8 [00:02<00:01,  1.56it/s]\u001b[A\n",
      " 88%|████████████████████████████████████████████████████▌       | 7/8 [00:04<00:00,  1.05it/s]\u001b[A\n",
      "100%|████████████████████████████████████████████████████████████| 8/8 [00:07<00:00,  1.64s/it]\u001b[A\n",
      "100%|████████████████████████████████████████████████████████████| 3/3 [00:23<00:00,  7.90s/it]\u001b[A\n"
     ]
    }
   ],
   "source": [
    "\n",
    "r2_rand_pred = util.ridge_random(\n",
    "    dff_mu,\n",
    "    pars[\"random_predictors\"][\"n_pred_list\"],\n",
    "    cv_test + cv_train,\n",
    "    n_repeats=pars[\"random_predictors\"][\"n_repeats\"],\n",
    "    alpha=pars[\"global\"][\"alpha\"],\n",
    "    n_targets=n_targets,\n",
    ")\n"
   ]
  },
  {
   "cell_type": "markdown",
   "id": "63f39c45-3c2a-4fd4-9028-1e40c35ffb9a",
   "metadata": {},
   "source": [
    "#### Figure panels"
   ]
  },
  {
   "cell_type": "code",
   "execution_count": 17,
   "id": "0e1440b3-f2db-48d4-8c69-8e96ec1e224b",
   "metadata": {},
   "outputs": [
    {
     "ename": "NameError",
     "evalue": "name 'c_pca' is not defined",
     "output_type": "error",
     "traceback": [
      "\u001b[0;31m---------------------------------------------------------------------------\u001b[0m",
      "\u001b[0;31mNameError\u001b[0m                                 Traceback (most recent call last)",
      "Cell \u001b[0;32mIn[17], line 8\u001b[0m\n\u001b[1;32m      6\u001b[0m ax[\u001b[38;5;241m0\u001b[39m]\u001b[38;5;241m.\u001b[39mset_xticks(np\u001b[38;5;241m.\u001b[39marange(\u001b[38;5;241m0\u001b[39m,\u001b[38;5;241m600\u001b[39m,\u001b[38;5;241m100\u001b[39m))\n\u001b[1;32m      7\u001b[0m ax[\u001b[38;5;241m0\u001b[39m]\u001b[38;5;241m.\u001b[39mset_ylim(\u001b[38;5;241m0\u001b[39m,\u001b[38;5;241m0.4\u001b[39m)\n\u001b[0;32m----> 8\u001b[0m ax[\u001b[38;5;241m1\u001b[39m]\u001b[38;5;241m.\u001b[39mplot(np\u001b[38;5;241m.\u001b[39mfloor(r2_bcvpca\u001b[38;5;241m.\u001b[39mdimensions)[::\u001b[38;5;241m5\u001b[39m],r2_bcvpca\u001b[38;5;241m.\u001b[39mmean(\u001b[38;5;124m'\u001b[39m\u001b[38;5;124mn_repeats\u001b[39m\u001b[38;5;124m'\u001b[39m)[::\u001b[38;5;241m5\u001b[39m],color\u001b[38;5;241m=\u001b[39m\u001b[43mc_pca\u001b[49m,linestyle\u001b[38;5;241m=\u001b[39m\u001b[38;5;124m'\u001b[39m\u001b[38;5;124m-\u001b[39m\u001b[38;5;124m'\u001b[39m,marker\u001b[38;5;241m=\u001b[39m\u001b[38;5;124m'\u001b[39m\u001b[38;5;124mo\u001b[39m\u001b[38;5;124m'\u001b[39m,markersize\u001b[38;5;241m=\u001b[39mms,alpha\u001b[38;5;241m=\u001b[39m\u001b[38;5;241m1\u001b[39m,lw\u001b[38;5;241m=\u001b[39mlw)\n\u001b[1;32m      9\u001b[0m ax[\u001b[38;5;241m1\u001b[39m]\u001b[38;5;241m.\u001b[39mfill_between(np\u001b[38;5;241m.\u001b[39mfloor(r2_bcvpca\u001b[38;5;241m.\u001b[39mdimensions),r2_bcvpca\u001b[38;5;241m.\u001b[39mquantile(\u001b[38;5;241m0.05\u001b[39m,\u001b[38;5;124m'\u001b[39m\u001b[38;5;124mn_repeats\u001b[39m\u001b[38;5;124m'\u001b[39m),r2_bcvpca\u001b[38;5;241m.\u001b[39mquantile(\u001b[38;5;241m0.95\u001b[39m,\u001b[38;5;124m'\u001b[39m\u001b[38;5;124mn_repeats\u001b[39m\u001b[38;5;124m'\u001b[39m),alpha\u001b[38;5;241m=\u001b[39m\u001b[38;5;241m0.3\u001b[39m,color\u001b[38;5;241m=\u001b[39mc_pca,lw\u001b[38;5;241m=\u001b[39m\u001b[38;5;241m0.01\u001b[39m, label\u001b[38;5;241m=\u001b[39m\u001b[38;5;124m'\u001b[39m\u001b[38;5;124mPCs\u001b[39m\u001b[38;5;124m'\u001b[39m)\n\u001b[1;32m     12\u001b[0m ax[\u001b[38;5;241m1\u001b[39m]\u001b[38;5;241m.\u001b[39mplot(r2_rand_pred\u001b[38;5;241m.\u001b[39mn_predictors,r2_rand_pred\u001b[38;5;241m.\u001b[39mmean(\u001b[38;5;124m'\u001b[39m\u001b[38;5;124mn_repeats\u001b[39m\u001b[38;5;124m'\u001b[39m),color\u001b[38;5;241m=\u001b[39mc_random,linestyle\u001b[38;5;241m=\u001b[39m\u001b[38;5;124m'\u001b[39m\u001b[38;5;124m-\u001b[39m\u001b[38;5;124m'\u001b[39m,marker\u001b[38;5;241m=\u001b[39m\u001b[38;5;124m'\u001b[39m\u001b[38;5;124mo\u001b[39m\u001b[38;5;124m'\u001b[39m,markersize\u001b[38;5;241m=\u001b[39mms,alpha\u001b[38;5;241m=\u001b[39m\u001b[38;5;241m1\u001b[39m,lw\u001b[38;5;241m=\u001b[39mlw)\n",
      "\u001b[0;31mNameError\u001b[0m: name 'c_pca' is not defined"
     ]
    },
    {
     "data": {
      "image/png": "[encoded data removed]",
      "text/plain": [
       "<Figure size 640x480 with 2 Axes>"
      ]
     },
     "metadata": {},
     "output_type": "display_data"
    }
   ],
   "source": [
    "fig,ax=plt.subplots(2,1)\n",
    "ms=2\n",
    "lw=1\n",
    "ax[0].plot(r2_voxelate.voxelsize,r2_voxelate.mean('n_repeats'), '-',color='k',marker='o',markersize=ms)\n",
    "ax[0].set(xlabel='voxel side length (µm)', ylabel='R2')\n",
    "ax[0].set_xticks(np.arange(0,600,100))\n",
    "ax[0].set_ylim(0,0.4)\n",
    "ax[1].plot(np.floor(r2_bcvpca.dimensions)[::5],r2_bcvpca.mean('n_repeats')[::5],color=c_pca,linestyle='-',marker='o',markersize=ms,alpha=1,lw=lw)\n",
    "ax[1].fill_between(np.floor(r2_bcvpca.dimensions),r2_bcvpca.quantile(0.05,'n_repeats'),r2_bcvpca.quantile(0.95,'n_repeats'),alpha=0.3,color=c_pca,lw=0.01, label='PCs')\n",
    "\n",
    "\n",
    "ax[1].plot(r2_rand_pred.n_predictors,r2_rand_pred.mean('n_repeats'),color=c_random,linestyle='-',marker='o',markersize=ms,alpha=1,lw=lw)\n",
    "ax[1].fill_between(r2_rand_pred.n_predictors,r2_rand_pred.quantile(0.05,'n_repeats'),r2_rand_pred.quantile(0.95,'n_repeats'),alpha=0.3,color=c_random,lw=0.01, label='cells')\n",
    "\n",
    "ax[1].plot(nnz.mean('n_repeats'),r2_voxelate.mean('n_repeats'),c=c_voxel,linestyle='-',marker='o',markersize=ms,alpha=1,lw=lw)\n",
    "ax[1].fill_between(nnz.mean('n_repeats'),r2_voxelate.quantile(0.05,'n_repeats'),r2_voxelate.quantile(0.95,'n_repeats'),alpha=0.3,color=c_voxel,lw=0.01, label='voxels')\n",
    "\n",
    "\n",
    "ax[1].set_xscale('log')\n",
    "ax[1].set_xlabel('Number of predictors')\n",
    "ax[1].set_ylabel('R2')\n",
    "ax[1].legend()\n",
    "ax[1].set_xticks([10**x for x in range(0,6)])\n",
    "ax[1].set_ylim(0,0.4)\n",
    "ax[1].set_xlim(0,None)\n",
    "plt.tight_layout()"
   ]
  },
  {
   "cell_type": "markdown",
   "id": "2a1317fd-faf0-4c62-88df-9e98e1ae7337",
   "metadata": {
    "tags": []
   },
   "source": [
    "### Figure 4d"
   ]
  },
  {
   "cell_type": "markdown",
   "id": "9ecd3856-d838-47c2-a21b-c08860378047",
   "metadata": {},
   "source": [
    "#### De-coupling R2 and voxelsize (Duration ~ 40 mins)"
   ]
  },
  {
   "cell_type": "code",
   "execution_count": null,
   "id": "255bfd88-ff78-498c-bdd9-e0c638fdcc82",
   "metadata": {},
   "outputs": [],
   "source": [
    "R2s = util.voxelate_alpha_scan(\n",
    "        pars[\"r2_scan\"][\"s_bins\"],\n",
    "        pars[\"r2_scan\"][\"n_pred_list\"],\n",
    "        coords,\n",
    "        dff_mu,\n",
    "        cv_test,\n",
    "        cv_train,\n",
    "        pars[\"r2_scan\"][\"alphas\"],\n",
    "        n_repeats=pars[\"global\"][\"alpha_repeats\"],\n",
    "        n_targets=n_targets,\n",
    "    )\n",
    "alphas_max = R2s.mean(\"repeats\").idxmax(\"alphas\")\n",
    "\n",
    "R2s_val, batch_id = util.voxelate_all(\n",
    "    pars[\"r2_scan\"][\"s_bins\"],\n",
    "    pars[\"r2_scan\"][\"n_pred_list\"],\n",
    "    coords,\n",
    "    dff_mu,\n",
    "    cv_train + cv_test,\n",
    "    alphas_max,\n",
    "    n_repeats=pars[\"r2_scan\"][\"n_repeats\"],\n",
    "    n_targets=n_targets,\n",
    ")\n"
   ]
  },
  {
   "cell_type": "markdown",
   "id": "43f7d709-d670-4716-8fae-fda3cb29e848",
   "metadata": {},
   "source": [
    "#### Figure panel"
   ]
  },
  {
   "cell_type": "code",
   "execution_count": null,
   "id": "a0795166-f031-4124-ac46-ce27f20c0fc6",
   "metadata": {},
   "outputs": [],
   "source": [
    "##### R2 Plot\n",
    "\n",
    "\n",
    "opac=0.1\n",
    "var=xr.DataArray(dff_mu[cv_val].var(0),dims='cells')\n",
    "fig,ax=plt.subplots()\n",
    "for nn in R2s_val.num_predictors:\n",
    "    color = next(ax._get_lines.prop_cycler)['color']\n",
    "    vox_list=[]\n",
    "    for vx_sz in R2s_val.voxel_size:\n",
    "        batch_means=[]\n",
    "        for irep in R2s_val.repeats:\n",
    "            arr=batch_id[0].sel(num_predictors=nn).isel(repeats=irep).sel(voxel_size=vx_sz)\n",
    "            arr_r2=R2s_val[0].sel(num_predictors=nn).isel(repeats=irep).sel(voxel_size=vx_sz)\n",
    "\n",
    "            batch_nr,indx=np.unique(arr,return_inverse=True)\n",
    "\n",
    "            for ii in range(max(indx)):\n",
    "                batch_mask=(indx==ii)\n",
    "                batch_means.append(np.average(arr_r2[batch_mask],weights=var[batch_mask]))\n",
    "        vox_list.append(batch_means)\n",
    "\n",
    "    ax.plot(R2s_val.voxel_size,[np.nanmean(x) for x in vox_list],ls='-',c=color,label=f'{int(nn)}')\n",
    "    ax.fill_between(R2s_val.voxel_size,[np.nanpercentile(x,95) for x in vox_list],[np.nanpercentile(x,5) for x in vox_list],alpha=opac,color=color,lw=0.01)\n",
    "\n",
    "    vox_list=[]\n",
    "    for vx_sz in R2s_val.voxel_size:\n",
    "        batch_means=[]\n",
    "        for irep in R2s_val.repeats:\n",
    "            arr=batch_id[1].sel(num_predictors=nn).isel(repeats=irep).sel(voxel_size=vx_sz)\n",
    "            arr_r2=R2s_val[1].sel(num_predictors=nn).isel(repeats=irep).sel(voxel_size=vx_sz)\n",
    "\n",
    "            batch_nr,indx=np.unique(arr,return_inverse=True)\n",
    "\n",
    "            for ii in range(max(indx)):\n",
    "                batch_mask=(indx==ii)\n",
    "                batch_means.append(np.average(arr_r2[batch_mask],weights=var[batch_mask]))\n",
    "        vox_list.append(batch_means)\n",
    "\n",
    "    ax.plot(R2s_val.voxel_size,[np.nanmean(x) for x in vox_list],ls='--',c=color, label='')\n",
    "    ax.fill_between(R2s_val.voxel_size,[np.nanpercentile(x,95) for x in vox_list],[np.nanpercentile(x,5) for x in vox_list],alpha=opac,color=color,lw=0.01)#,hatch=\"*\")\n",
    "ax.set_ylim(0,0.5)\n",
    "plt.plot([], [],' ',ls='--', label=\"shuffled\")\n",
    "ax.legend(ncol=2,loc='upper right')\n",
    "ax.set(xlabel='voxel side length (µm)', ylabel='R2')"
   ]
  },
  {
   "cell_type": "markdown",
   "id": "ffbf19b3-85d3-42dd-97ad-def27e54b1f7",
   "metadata": {
    "tags": []
   },
   "source": [
    "## Figure 5"
   ]
  },
  {
   "cell_type": "code",
   "execution_count": null,
   "id": "2cff8400-0b13-45c6-9e58-1dcdbb5f3e30",
   "metadata": {
    "tags": []
   },
   "outputs": [],
   "source": [
    "n_repeats = 25\n",
    "pred_list = [50,100,200,400,1000,2000]\n",
    "voxel_size_list = [50,100,200]\n",
    "metrics = ['similarity', 'distortion']\n",
    "\n",
    "out = np.ones((len(names), len(metrics), len(pred_list), len(voxel_size_list), n_repeats, 2)) * np.nan\n",
    "        \n",
    "for k_ds, name in enumerate(tqdm(names, position=0, leave=True)):\n",
    "    \n",
    "    coords,dff,traces=load_dset(name)\n",
    "    dff_mu=(dff-np.nanmean(dff,0,keepdims=True))[~np.isnan(dff.sum(1))] # Centered Data without NANs ( motion)\n",
    "   \n",
    "   \n",
    "    randperm = np.random.permutation(np.arange(len(coords)))\n",
    "    dff_mu = dff_mu[:,randperm]\n",
    "    coords = coords[randperm]\n",
    "\n",
    "\n",
    "    cell_mask = np.zeros(len(coords), dtype='bool')\n",
    "    cell_mask[::2] = True\n",
    "    \n",
    "    for k_metric, metric in enumerate(metrics):\n",
    "        if metric == 'similarity':\n",
    "            def distortion_stress(D0, D):\n",
    "                return stats.pearsonr.gpu(D0.ravel(),D.ravel())[0]\n",
    "            def distance_fun(x):\n",
    "                return 1-stats.corrx.gpu(x.T,x.T)\n",
    "        elif metric == 'distortion':\n",
    "            def distortion_stress(D0, D):\n",
    "                return spatial.distortion_stress(D0,D)\n",
    "            def distance_fun(x):\n",
    "                return spatial.pdist.gpu(x)\n",
    "        \n",
    "        D0 = distance_fun(dff_mu[:,cell_mask])\n",
    "\n",
    "        for k_vx, voxel_size in enumerate(voxel_size_list):\n",
    "            for k_pred, n_pred in enumerate(pred_list):\n",
    "                for k in range(n_repeats):\n",
    "                    cell_sub = dff_mu[:,np.random.choice(np.where(~cell_mask)[0], size=n_pred, replace=False)]\n",
    "                    dd_cell = distortion_stress(D0,distance_fun(cell_sub))\n",
    "                    vox_sub = spatial.voxelate(coords[~cell_mask] + np.random.rand(1,3)*voxel_size, dff_mu[:,~cell_mask], voxel_size, average=True)[0]\n",
    "                    if vox_sub.shape[1] < n_pred: continue\n",
    "                    vox_sub = vox_sub[:,np.random.choice(np.arange(vox_sub.shape[1]), size=n_pred, replace=False)]\n",
    "                    dd_vox = distortion_stress(D0,distance_fun(vox_sub))\n",
    "                    out[k_ds,k_metric,k_pred,k_vx,k,:] = [dd_cell, dd_vox]\n",
    "\n"
   ]
  }
 ],
 "metadata": {
  "kernelspec": {
   "display_name": "Python [conda env:hoffmann_et_al]",
   "language": "python",
   "name": "conda-env-hoffmann_et_al-py"
  },
  "language_info": {
   "codemirror_mode": {
    "name": "ipython",
    "version": 3
   },
   "file_extension": ".py",
   "mimetype": "text/x-python",
   "name": "python",
   "nbconvert_exporter": "python",
   "pygments_lexer": "ipython3",
   "version": "3.8.16"
  }
 },
 "nbformat": 4,
 "nbformat_minor": 5
}
