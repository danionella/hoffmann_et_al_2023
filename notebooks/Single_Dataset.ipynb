{
 "cells": [
  {
   "cell_type": "code",
   "execution_count": null,
   "id": "9faf3c02-d3de-423b-aa0c-6bd3baf358b6",
   "metadata": {
    "tags": []
   },
   "outputs": [],
   "source": [
    "!wget https://owncloud-ext.charite.de/owncloud/index.php/s/0fe625BKTbPy5V5/download -O data.h5 -q"
   ]
  },
  {
   "cell_type": "code",
   "execution_count": 3,
   "id": "7d3d2a76-d7f1-474c-affb-2d27155fd3f3",
   "metadata": {
    "tags": []
   },
   "outputs": [],
   "source": [
    "import importlib "
   ]
  },
  {
   "cell_type": "code",
   "execution_count": 1,
   "id": "b0953008-f023-4b63-9d73-078d8d51cb62",
   "metadata": {
    "tags": []
   },
   "outputs": [
    {
     "name": "stderr",
     "output_type": "stream",
     "text": [
      "/home/hoffmmax/mambaforge/envs/hoffmann_et_al/lib/python3.8/site-packages/tqdm/auto.py:21: TqdmWarning: IProgress not found. Please update jupyter and ipywidgets. See https://ipywidgets.readthedocs.io/en/stable/user_install.html\n",
      "  from .autonotebook import tqdm as notebook_tqdm\n",
      "WARNING:root:No module named 'rmm'\n"
     ]
    }
   ],
   "source": [
    "import h5py as h5\n",
    "import numpy as np\n",
    "from tqdm.auto import tqdm\n",
    "from wholebrain import util,cluster,spatial,regression\n",
    "from functools import partialmethod\n",
    "tqdm.__init__ = partialmethod(tqdm.__init__, disable=True)"
   ]
  },
  {
   "cell_type": "code",
   "execution_count": 4,
   "id": "e01b3c78-0785-48fb-ba00-70953b3ce655",
   "metadata": {
    "tags": []
   },
   "outputs": [
    {
     "data": {
      "text/plain": [
       "<module 'wholebrain.util' from '/home/hoffmmax/repos/hoffmann_et_al_2023/src/wholebrain/util.py'>"
      ]
     },
     "execution_count": 4,
     "metadata": {},
     "output_type": "execute_result"
    }
   ],
   "source": [
    "importlib.reload(util)"
   ]
  },
  {
   "cell_type": "code",
   "execution_count": 5,
   "id": "a70d7324-b6a9-4556-b9f8-a6148b2771c1",
   "metadata": {},
   "outputs": [],
   "source": [
    "def load_dset(name):\n",
    "    with h5.File('./data.h5','r') as fh5:\n",
    "        return fh5[name]['coords'][:],fh5[name]['dff'][:],fh5[name]['traces'][:]"
   ]
  },
  {
   "cell_type": "code",
   "execution_count": 6,
   "id": "2109835f-e80a-4f0d-9390-78bad4b90ee0",
   "metadata": {
    "tags": []
   },
   "outputs": [
    {
     "name": "stdout",
     "output_type": "stream",
     "text": [
      "Datasets: ['20211027_1238_no_stimulus', '20211105_1332_no_stimulus', '20211209_1205_no_stimulus', '20220610_1532_No_stimulus', '20221124_1003_No_stimulus', '20221127_1643_no_stimulus']\n"
     ]
    }
   ],
   "source": [
    "data={}\n",
    "with h5.File('./data.h5','r') as fh5:\n",
    "    names=[n for n in fh5.keys()]\n",
    "    print('Datasets:', names)"
   ]
  },
  {
   "cell_type": "code",
   "execution_count": 7,
   "id": "308e4840-0ec4-4bc6-a884-459d2a0657b5",
   "metadata": {
    "tags": []
   },
   "outputs": [],
   "source": [
    "n_repeats=1\n",
    "alpha_repeats=1\n",
    "\n",
    "pars={\"global\": {\"stripe_period\":300,\n",
    "                 \"val_fraction\":0.2,\n",
    "                 \"test_fraction\":0.2,\n",
    "                 \"target_fraction\":0.1,\n",
    "                 \"alphas\":np.geomspace(1,10000,20).tolist(),\n",
    "                \"alpha_repeats\":alpha_repeats\n",
    "                 },\n",
    "      \"distortion\": \n",
    "     { \"do\": True, \"split\":2},\n",
    "     \"correlation\": \n",
    "     { \"do\": True, \"ringlims\":[25,50]},\n",
    "      \"reconstruct\": \n",
    "     { \"do\": True,\"num\":500,\"s_bins\":[1,100]},\n",
    "     \"pca_reg\": \n",
    "     {\"do\":True, \"dims_list\":np.geomspace(1, 1500, 200).tolist(),\"n_repeats\":n_repeats},\n",
    "     \"random_predictors\": \n",
    "     {\"do\":True, \"n_pred_list\": [100,200,400,1000,2000,5000,10000,20000],\"n_repeats\":n_repeats},\n",
    "     \"voxelate\":\n",
    "     {\"do\":True, \"s_bins_dim\": [5,10,25,50,100,150,200,500],\"n_pred_list\": [100,200,400,1000,2000,5000,10000,20000],\"n_repeats\":n_repeats},\n",
    "     \"r2_scan\":\n",
    "     {\"do\":True, \"s_bins\":[5,10,25,50,100,150,200,500],\"n_pred_list\": [100,200,400,1000,2000,5000,10000,20000],\"alphas\":np.geomspace(1,10000,20).tolist(),\"n_repeats\":n_repeats},\n",
    "     \"snr\":\n",
    "     {\"do\":False, \"snr_level\": [20, 30, 50, 60, 70, 80] ,\"alphas\":np.geomspace(50,1000,20).tolist(),\"n_repeats\":n_repeats},\n",
    "     \"random_projections\":\n",
    "     {\"do\":False, \"alphas\":np.geomspace(0.1, 1e9, 10).tolist(),\"n_repeats\":n_repeats},\n",
    "      \"corr_fc\":\n",
    "     {\"do\":True, \"min_dist\":400, \"radius_list\": [5,10,15,25,50,100,150,200], \"save_full_at\":[5,50,100,200],\"dec_factor\":20}\n",
    "     } "
   ]
  },
  {
   "cell_type": "code",
   "execution_count": 16,
   "id": "cfd5dd0e-f104-4dff-aff0-f96b1cc8c3eb",
   "metadata": {
    "tags": []
   },
   "outputs": [],
   "source": []
  },
  {
   "cell_type": "code",
   "execution_count": 38,
   "id": "27d33c83-9182-484e-9116-e9a00b707004",
   "metadata": {},
   "outputs": [
    {
     "data": {
      "text/plain": [
       "array([False, False, False, ...,  True,  True,  True])"
      ]
     },
     "execution_count": 38,
     "metadata": {},
     "output_type": "execute_result"
    }
   ],
   "source": []
  },
  {
   "cell_type": "code",
   "execution_count": 8,
   "id": "60de657d-8449-41a3-8a66-7ff1e77c62e1",
   "metadata": {
    "tags": []
   },
   "outputs": [],
   "source": [
    "coords,dff,traces=load_dset(names[0])\n",
    "dff_mu=(dff-np.nanmean(dff,0,keepdims=True))[~np.isnan(dff.sum(1))] # Centered Data without NANs ( motion)\n",
    "\n",
    "cv_train,cv_test,cv_val=util.create_crossvalidation_mask(dff_mu)\n",
    "n_targets = int(dff_mu.shape[1] * pars[\"global\"][\"target_fraction\"])\n",
    "max_npred=(1-pars['global']['target_fraction'])*dff_mu.shape[1]"
   ]
  },
  {
   "cell_type": "markdown",
   "id": "1dd9e1dc-b33d-4a1f-bf4a-02faa7e03b88",
   "metadata": {},
   "source": [
    "### Bi-crossvalidated PCA"
   ]
  },
  {
   "cell_type": "code",
   "execution_count": 9,
   "id": "5fc1d71d-e426-4049-89c5-128ff845fc07",
   "metadata": {
    "tags": []
   },
   "outputs": [],
   "source": [
    "r2_bcvpca = util.pca_run(dff_mu, cv_test + cv_train,pars[\"pca_reg\"][\"dims_list\"],n_targets=n_targets, n_repeats=pars[\"pca_reg\"][\"n_repeats\"],)\n"
   ]
  },
  {
   "cell_type": "markdown",
   "id": "4623f403-9054-4765-904e-bd25588e3342",
   "metadata": {
    "tags": []
   },
   "source": [
    "#### Determination of regularization parameter for ridge regression"
   ]
  },
  {
   "cell_type": "code",
   "execution_count": null,
   "id": "9469d301-ec6a-43d1-a302-5ee8e1e89133",
   "metadata": {
    "tags": []
   },
   "outputs": [],
   "source": [
    "print(\"Alpha Scan for regression\")\n",
    "   \n",
    "alphas=pars[\"global\"][\"alphas\"]\n",
    "r2_l=[]\n",
    "s_bin=pars[\"voxelate\"][\"s_bins_dim\"]\n",
    "\n",
    "for alpha in alphas:\n",
    "        nnz, r2_voxelate = util.voxelate_regression(\n",
    "            [s_bin[len(s_bin)//2]],\n",
    "            dff_mu,\n",
    "            coords,\n",
    "            cv_test,\n",
    "            n_targets=n_targets,\n",
    "            n_repeats=pars[\"global\"][\"alpha_repeats\"],\n",
    "            alpha=alpha,\n",
    "        )\n",
    "        r2_l.append(r2_voxelate.mean()) \n",
    "        \n",
    "#Update global alpha parameter\n",
    "pars[\"global\"][\"alpha\"]=alphas[np.argmax(r2_l)]"
   ]
  },
  {
   "cell_type": "markdown",
   "id": "695b6890-07aa-4bb4-842f-3a512470d7b6",
   "metadata": {
    "tags": []
   },
   "source": [
    "#### Voxelized regression with determined alpha parameter"
   ]
  },
  {
   "cell_type": "code",
   "execution_count": 56,
   "id": "5bbddb8a-ea79-4056-8e0d-6a7a5722aefa",
   "metadata": {
    "tags": []
   },
   "outputs": [],
   "source": [
    "nnz, r2_voxelate = util.voxelate_regression(\n",
    "    pars[\"voxelate\"][\"s_bins_dim\"],\n",
    "    dff_mu,\n",
    "    coords,\n",
    "    cv_test + cv_train,\n",
    "    n_targets=n_targets,\n",
    "    n_repeats=pars[\"voxelate\"][\"n_repeats\"],\n",
    "    alpha=pars[\"global\"][\"alpha\"],\n",
    ")\n",
    "       \n"
   ]
  },
  {
   "cell_type": "markdown",
   "id": "b392583e-467e-4cee-bbf8-b926f93b9297",
   "metadata": {
    "tags": []
   },
   "source": [
    "#### Random Predictors"
   ]
  },
  {
   "cell_type": "code",
   "execution_count": 58,
   "id": "30b6e6eb-3c48-465e-bebf-cc1d11ff56fe",
   "metadata": {
    "tags": []
   },
   "outputs": [],
   "source": [
    "\n",
    "r2_rand_pred = util.ridge_random(\n",
    "    dff_mu,\n",
    "    pars[\"random_predictors\"][\"n_pred_list\"],\n",
    "    cv_test + cv_train,\n",
    "    n_repeats=pars[\"random_predictors\"][\"n_repeats\"],\n",
    "    alpha=pars[\"global\"][\"alpha\"],\n",
    "    n_targets=n_targets,\n",
    ")\n"
   ]
  },
  {
   "cell_type": "markdown",
   "id": "998dbd19-9292-490a-baf2-649bcd4f4f50",
   "metadata": {
    "tags": []
   },
   "source": [
    "#### De-coupling of voxel size and number of predictors.\n",
    "- Determine alpha for each combination of #pred and voxel size\n",
    "- Determine R2 on validation set"
   ]
  },
  {
   "cell_type": "code",
   "execution_count": null,
   "id": "5509cefe-8161-40dc-b524-0d822bec11fd",
   "metadata": {
    "tags": []
   },
   "outputs": [],
   "source": [
    "R2s = util.voxelate_alpha_scan(\n",
    "        pars[\"r2_scan\"][\"s_bins\"],\n",
    "        pars[\"r2_scan\"][\"n_pred_list\"],\n",
    "        coords,\n",
    "        dff_mu,\n",
    "        cv_test,\n",
    "        cv_train,\n",
    "        pars[\"r2_scan\"][\"alphas\"],\n",
    "        n_repeats=pars[\"global\"][\"alpha_repeats\"],\n",
    "        n_targets=n_targets,\n",
    "    )\n",
    "alphas_max = R2s.mean(\"repeats\").idxmax(\"alphas\")\n",
    "\n",
    "R2s_val, batch_id =  util.voxelate_all(\n",
    "    pars[\"r2_scan\"][\"s_bins\"],\n",
    "    pars[\"r2_scan\"][\"n_pred_list\"],\n",
    "    coords,\n",
    "    dff_mu,\n",
    "    cv_train + cv_test,\n",
    "    alphas_max,\n",
    "    n_repeats=pars[\"r2_scan\"][\"n_repeats\"],\n",
    "    n_targets=n_targets,\n",
    ")\n",
    "\n",
    "#R2s.to_netcdf(os.path.join(p_out, \"R2s.netcdf\"))\n",
    "#batch_id.to_netcdf(os.path.join(p_out, \"batch_id.netcdf\"))\n",
    "#R2s_val.to_netcdf(os.path.join(p_out, \"R2s_val.netcdf\"))\n",
    "\n"
   ]
  },
  {
   "cell_type": "markdown",
   "id": "f2821294-4c4a-4e19-b5ae-e7c1bd6cde8c",
   "metadata": {
    "tags": []
   },
   "source": [
    "#### Reconstruct traces from limited number of predictors"
   ]
  },
  {
   "cell_type": "code",
   "execution_count": null,
   "id": "61fa1252-df01-46ee-b9af-5a4e98e362b3",
   "metadata": {
    "tags": []
   },
   "outputs": [],
   "source": [
    "\n",
    "cix = np.arange(dff_mu.shape[1])\n",
    "target_cells = np.random.choice(cix, size=n_targets, replace=False)\n",
    "predictor_cells = np.setdiff1d(cix, target_cells)\n",
    "offset = np.random.rand()\n",
    "res.clix=cluster.embed1D.gpu(dff_mu)\n",
    "n= pars[\"reconstruct\"][\"num\"]\n",
    "res.traces_recon=[]\n",
    "for s in pars[\"reconstruct\"][\"s_bins\"]:\n",
    "    X = spatial.voxelate(res.coords[predictor_cells] + offset * s, dff_traces_m[:, predictor_cells], s)[0]\n",
    "    indx=np.random.choice(X.shape[1],n)\n",
    "    X_sub=X[:,indx]\n",
    "    W,r2=regression.ridgeCV(X_sub, dff_traces_m, cv_train+cv_test, alpha=pars[\"global\"][\"alpha\"])\n",
    "    res.traces_recon.append(X_sub@W)"
   ]
  },
  {
   "cell_type": "markdown",
   "id": "8dbac22d-7df6-4946-8d6d-271c43c75607",
   "metadata": {},
   "source": [
    "#### Compute distortion measures"
   ]
  },
  {
   "cell_type": "code",
   "execution_count": null,
   "id": "fe9b592b-ae9c-4250-b0c0-de6a1038eee9",
   "metadata": {},
   "outputs": [],
   "source": [
    "sim_val = wb.legacy.distortion(\n",
    "    pars[\"r2_scan\"][\"s_bins\"],\n",
    "    pars[\"r2_scan\"][\"n_pred_list\"],\n",
    "    res.coords,\n",
    "    dff_traces_m,\n",
    "    n_repeats=pars[\"r2_scan\"][\"n_repeats\"],\n",
    "    n_targets=dff_traces_m.shape[1]//pars[\"distortion\"][\"split\"],\n",
    ")\n",
    "sim_val.to_netcdf(os.path.join(p_out, \"similarity.netcdf\"))"
   ]
  }
 ],
 "metadata": {
  "kernelspec": {
   "display_name": "Python [conda env:hoffmann_et_al]",
   "language": "python",
   "name": "conda-env-hoffmann_et_al-py"
  },
  "language_info": {
   "codemirror_mode": {
    "name": "ipython",
    "version": 3
   },
   "file_extension": ".py",
   "mimetype": "text/x-python",
   "name": "python",
   "nbconvert_exporter": "python",
   "pygments_lexer": "ipython3",
   "version": "3.8.16"
  }
 },
 "nbformat": 4,
 "nbformat_minor": 5
}
